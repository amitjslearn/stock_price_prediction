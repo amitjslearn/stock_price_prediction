{
  "nbformat": 4,
  "nbformat_minor": 0,
  "metadata": {
    "kernelspec": {
      "name": "python3",
      "display_name": "Python 3"
    },
    "language_info": {
      "codemirror_mode": {
        "name": "ipython",
        "version": 3
      },
      "file_extension": ".py",
      "mimetype": "text/x-python",
      "name": "python",
      "nbconvert_exporter": "python",
      "pygments_lexer": "ipython3",
      "version": "3.7.3"
    },
    "varInspector": {
      "cols": {
        "lenName": 16,
        "lenType": 16,
        "lenVar": 40
      },
      "kernels_config": {
        "python": {
          "delete_cmd_postfix": "",
          "delete_cmd_prefix": "del ",
          "library": "var_list.py",
          "varRefreshCmd": "print(var_dic_list())"
        },
        "r": {
          "delete_cmd_postfix": ") ",
          "delete_cmd_prefix": "rm(",
          "library": "var_list.r",
          "varRefreshCmd": "cat(var_dic_list()) "
        }
      },
      "oldHeight": 281.85,
      "position": {
        "height": "303.85px",
        "left": "620px",
        "right": "20px",
        "top": "123px",
        "width": "595px"
      },
      "types_to_exclude": [
        "module",
        "function",
        "builtin_function_or_method",
        "instance",
        "_Feature"
      ],
      "varInspector_section_display": "block",
      "window_display": false
    },
    "colab": {
      "name": "new_stock_price.ipynb",
      "provenance": [],
      "collapsed_sections": [],
      "include_colab_link": true
    },
    "accelerator": "TPU"
  },
  "cells": [
    {
      "cell_type": "markdown",
      "metadata": {
        "id": "view-in-github",
        "colab_type": "text"
      },
      "source": [
        "<a href=\"https://colab.research.google.com/github/amitjslearn/stock_price_prediction/blob/master/new_stock_price.ipynb\" target=\"_parent\"><img src=\"https://colab.research.google.com/assets/colab-badge.svg\" alt=\"Open In Colab\"/></a>"
      ]
    },
    {
      "cell_type": "code",
      "metadata": {
        "id": "6GLR5niJu2Xm",
        "colab_type": "code",
        "colab": {}
      },
      "source": [
        ""
      ],
      "execution_count": 0,
      "outputs": []
    },
    {
      "cell_type": "code",
      "metadata": {
        "id": "tR-mNht1u2X2",
        "colab_type": "code",
        "colab": {}
      },
      "source": [
        "# Recurrent Neural Network\n",
        "\n",
        "# Part 1 - Data Preprocessing\n",
        "\n",
        "# Importing the libraries\n",
        "import numpy as np\n",
        "import matplotlib.pyplot as plt\n",
        "import pandas as pd"
      ],
      "execution_count": 0,
      "outputs": []
    },
    {
      "cell_type": "code",
      "metadata": {
        "id": "Otyj59S0vmMp",
        "colab_type": "code",
        "outputId": "214f876b-ad42-4d75-ab69-ddd040e330cf",
        "colab": {
          "base_uri": "https://localhost:8080/",
          "height": 54
        }
      },
      "source": [
        "from google.colab import drive\n",
        "drive.mount('/content/drive', force_remount=False)"
      ],
      "execution_count": 0,
      "outputs": [
        {
          "output_type": "stream",
          "text": [
            "Drive already mounted at /content/drive; to attempt to forcibly remount, call drive.mount(\"/content/drive\", force_remount=True).\n"
          ],
          "name": "stdout"
        }
      ]
    },
    {
      "cell_type": "code",
      "metadata": {
        "id": "9HQqV6D3u2YH",
        "colab_type": "code",
        "colab": {}
      },
      "source": [
        "from sklearn.externals.joblib import dump\n",
        "from sklearn.externals.joblib import load\n"
      ],
      "execution_count": 0,
      "outputs": []
    },
    {
      "cell_type": "code",
      "metadata": {
        "collapsed": true,
        "id": "1ufN4RB-u2YO",
        "colab_type": "code",
        "outputId": "b19317c5-867f-49e4-a6e5-24148501bc5b",
        "colab": {
          "base_uri": "https://localhost:8080/",
          "height": 1000
        }
      },
      "source": [
        "# Importing the training set\n",
        "dataset_train = pd.read_csv('/content/drive/My Drive/Colab Notebooks/Google_Stock_Price_Train.csv'); dataset_train"
      ],
      "execution_count": 0,
      "outputs": [
        {
          "output_type": "execute_result",
          "data": {
            "text/html": [
              "<div>\n",
              "<style scoped>\n",
              "    .dataframe tbody tr th:only-of-type {\n",
              "        vertical-align: middle;\n",
              "    }\n",
              "\n",
              "    .dataframe tbody tr th {\n",
              "        vertical-align: top;\n",
              "    }\n",
              "\n",
              "    .dataframe thead th {\n",
              "        text-align: right;\n",
              "    }\n",
              "</style>\n",
              "<table border=\"1\" class=\"dataframe\">\n",
              "  <thead>\n",
              "    <tr style=\"text-align: right;\">\n",
              "      <th></th>\n",
              "      <th>Date</th>\n",
              "      <th>Open</th>\n",
              "      <th>High</th>\n",
              "      <th>Low</th>\n",
              "      <th>Close</th>\n",
              "      <th>Volume</th>\n",
              "    </tr>\n",
              "  </thead>\n",
              "  <tbody>\n",
              "    <tr>\n",
              "      <th>0</th>\n",
              "      <td>1/3/2012</td>\n",
              "      <td>325.25</td>\n",
              "      <td>332.83</td>\n",
              "      <td>324.97</td>\n",
              "      <td>663.59</td>\n",
              "      <td>7,380,500</td>\n",
              "    </tr>\n",
              "    <tr>\n",
              "      <th>1</th>\n",
              "      <td>1/4/2012</td>\n",
              "      <td>331.27</td>\n",
              "      <td>333.87</td>\n",
              "      <td>329.08</td>\n",
              "      <td>666.45</td>\n",
              "      <td>5,749,400</td>\n",
              "    </tr>\n",
              "    <tr>\n",
              "      <th>2</th>\n",
              "      <td>1/5/2012</td>\n",
              "      <td>329.83</td>\n",
              "      <td>330.75</td>\n",
              "      <td>326.89</td>\n",
              "      <td>657.21</td>\n",
              "      <td>6,590,300</td>\n",
              "    </tr>\n",
              "    <tr>\n",
              "      <th>3</th>\n",
              "      <td>1/6/2012</td>\n",
              "      <td>328.34</td>\n",
              "      <td>328.77</td>\n",
              "      <td>323.68</td>\n",
              "      <td>648.24</td>\n",
              "      <td>5,405,900</td>\n",
              "    </tr>\n",
              "    <tr>\n",
              "      <th>4</th>\n",
              "      <td>1/9/2012</td>\n",
              "      <td>322.04</td>\n",
              "      <td>322.29</td>\n",
              "      <td>309.46</td>\n",
              "      <td>620.76</td>\n",
              "      <td>11,688,800</td>\n",
              "    </tr>\n",
              "    <tr>\n",
              "      <th>5</th>\n",
              "      <td>1/10/2012</td>\n",
              "      <td>313.70</td>\n",
              "      <td>315.72</td>\n",
              "      <td>307.30</td>\n",
              "      <td>621.43</td>\n",
              "      <td>8,824,000</td>\n",
              "    </tr>\n",
              "    <tr>\n",
              "      <th>6</th>\n",
              "      <td>1/11/2012</td>\n",
              "      <td>310.59</td>\n",
              "      <td>313.52</td>\n",
              "      <td>309.40</td>\n",
              "      <td>624.25</td>\n",
              "      <td>4,817,800</td>\n",
              "    </tr>\n",
              "    <tr>\n",
              "      <th>7</th>\n",
              "      <td>1/12/2012</td>\n",
              "      <td>314.43</td>\n",
              "      <td>315.26</td>\n",
              "      <td>312.08</td>\n",
              "      <td>627.92</td>\n",
              "      <td>3,764,400</td>\n",
              "    </tr>\n",
              "    <tr>\n",
              "      <th>8</th>\n",
              "      <td>1/13/2012</td>\n",
              "      <td>311.96</td>\n",
              "      <td>312.30</td>\n",
              "      <td>309.37</td>\n",
              "      <td>623.28</td>\n",
              "      <td>4,631,800</td>\n",
              "    </tr>\n",
              "    <tr>\n",
              "      <th>9</th>\n",
              "      <td>1/17/2012</td>\n",
              "      <td>314.81</td>\n",
              "      <td>314.81</td>\n",
              "      <td>311.67</td>\n",
              "      <td>626.86</td>\n",
              "      <td>3,832,800</td>\n",
              "    </tr>\n",
              "    <tr>\n",
              "      <th>10</th>\n",
              "      <td>1/18/2012</td>\n",
              "      <td>312.14</td>\n",
              "      <td>315.82</td>\n",
              "      <td>309.90</td>\n",
              "      <td>631.18</td>\n",
              "      <td>5,544,000</td>\n",
              "    </tr>\n",
              "    <tr>\n",
              "      <th>11</th>\n",
              "      <td>1/19/2012</td>\n",
              "      <td>319.30</td>\n",
              "      <td>319.30</td>\n",
              "      <td>314.55</td>\n",
              "      <td>637.82</td>\n",
              "      <td>12,657,800</td>\n",
              "    </tr>\n",
              "    <tr>\n",
              "      <th>12</th>\n",
              "      <td>1/20/2012</td>\n",
              "      <td>294.16</td>\n",
              "      <td>294.40</td>\n",
              "      <td>289.76</td>\n",
              "      <td>584.39</td>\n",
              "      <td>21,231,800</td>\n",
              "    </tr>\n",
              "    <tr>\n",
              "      <th>13</th>\n",
              "      <td>1/23/2012</td>\n",
              "      <td>291.91</td>\n",
              "      <td>293.23</td>\n",
              "      <td>290.49</td>\n",
              "      <td>583.92</td>\n",
              "      <td>6,851,300</td>\n",
              "    </tr>\n",
              "    <tr>\n",
              "      <th>14</th>\n",
              "      <td>1/24/2012</td>\n",
              "      <td>292.07</td>\n",
              "      <td>292.74</td>\n",
              "      <td>287.92</td>\n",
              "      <td>579.34</td>\n",
              "      <td>6,134,400</td>\n",
              "    </tr>\n",
              "    <tr>\n",
              "      <th>15</th>\n",
              "      <td>1/25/2012</td>\n",
              "      <td>287.68</td>\n",
              "      <td>288.27</td>\n",
              "      <td>282.13</td>\n",
              "      <td>567.93</td>\n",
              "      <td>10,012,700</td>\n",
              "    </tr>\n",
              "    <tr>\n",
              "      <th>16</th>\n",
              "      <td>1/26/2012</td>\n",
              "      <td>284.92</td>\n",
              "      <td>286.17</td>\n",
              "      <td>281.22</td>\n",
              "      <td>566.54</td>\n",
              "      <td>6,476,500</td>\n",
              "    </tr>\n",
              "    <tr>\n",
              "      <th>17</th>\n",
              "      <td>1/27/2012</td>\n",
              "      <td>284.32</td>\n",
              "      <td>289.08</td>\n",
              "      <td>283.60</td>\n",
              "      <td>578.39</td>\n",
              "      <td>7,262,000</td>\n",
              "    </tr>\n",
              "    <tr>\n",
              "      <th>18</th>\n",
              "      <td>1/30/2012</td>\n",
              "      <td>287.95</td>\n",
              "      <td>288.92</td>\n",
              "      <td>285.63</td>\n",
              "      <td>576.11</td>\n",
              "      <td>4,678,400</td>\n",
              "    </tr>\n",
              "    <tr>\n",
              "      <th>19</th>\n",
              "      <td>1/31/2012</td>\n",
              "      <td>290.41</td>\n",
              "      <td>290.91</td>\n",
              "      <td>286.50</td>\n",
              "      <td>578.52</td>\n",
              "      <td>4,300,700</td>\n",
              "    </tr>\n",
              "    <tr>\n",
              "      <th>20</th>\n",
              "      <td>2/1/2012</td>\n",
              "      <td>291.38</td>\n",
              "      <td>291.66</td>\n",
              "      <td>288.49</td>\n",
              "      <td>579.24</td>\n",
              "      <td>4,658,700</td>\n",
              "    </tr>\n",
              "    <tr>\n",
              "      <th>21</th>\n",
              "      <td>2/2/2012</td>\n",
              "      <td>291.34</td>\n",
              "      <td>292.11</td>\n",
              "      <td>289.95</td>\n",
              "      <td>583.51</td>\n",
              "      <td>4,847,400</td>\n",
              "    </tr>\n",
              "    <tr>\n",
              "      <th>22</th>\n",
              "      <td>2/3/2012</td>\n",
              "      <td>294.23</td>\n",
              "      <td>297.42</td>\n",
              "      <td>292.93</td>\n",
              "      <td>594.7</td>\n",
              "      <td>6,360,700</td>\n",
              "    </tr>\n",
              "    <tr>\n",
              "      <th>23</th>\n",
              "      <td>2/6/2012</td>\n",
              "      <td>296.39</td>\n",
              "      <td>304.27</td>\n",
              "      <td>295.90</td>\n",
              "      <td>607.42</td>\n",
              "      <td>7,386,700</td>\n",
              "    </tr>\n",
              "    <tr>\n",
              "      <th>24</th>\n",
              "      <td>2/7/2012</td>\n",
              "      <td>302.44</td>\n",
              "      <td>303.56</td>\n",
              "      <td>300.75</td>\n",
              "      <td>605.11</td>\n",
              "      <td>4,199,700</td>\n",
              "    </tr>\n",
              "    <tr>\n",
              "      <th>25</th>\n",
              "      <td>2/8/2012</td>\n",
              "      <td>303.18</td>\n",
              "      <td>304.53</td>\n",
              "      <td>301.24</td>\n",
              "      <td>608.18</td>\n",
              "      <td>3,686,400</td>\n",
              "    </tr>\n",
              "    <tr>\n",
              "      <th>26</th>\n",
              "      <td>2/9/2012</td>\n",
              "      <td>304.87</td>\n",
              "      <td>306.10</td>\n",
              "      <td>303.36</td>\n",
              "      <td>609.79</td>\n",
              "      <td>4,546,300</td>\n",
              "    </tr>\n",
              "    <tr>\n",
              "      <th>27</th>\n",
              "      <td>2/10/2012</td>\n",
              "      <td>302.81</td>\n",
              "      <td>302.93</td>\n",
              "      <td>300.87</td>\n",
              "      <td>604.25</td>\n",
              "      <td>4,667,700</td>\n",
              "    </tr>\n",
              "    <tr>\n",
              "      <th>28</th>\n",
              "      <td>2/13/2012</td>\n",
              "      <td>304.11</td>\n",
              "      <td>305.77</td>\n",
              "      <td>303.87</td>\n",
              "      <td>610.52</td>\n",
              "      <td>3,646,100</td>\n",
              "    </tr>\n",
              "    <tr>\n",
              "      <th>29</th>\n",
              "      <td>2/14/2012</td>\n",
              "      <td>304.63</td>\n",
              "      <td>304.86</td>\n",
              "      <td>301.25</td>\n",
              "      <td>608.09</td>\n",
              "      <td>3,620,900</td>\n",
              "    </tr>\n",
              "    <tr>\n",
              "      <th>...</th>\n",
              "      <td>...</td>\n",
              "      <td>...</td>\n",
              "      <td>...</td>\n",
              "      <td>...</td>\n",
              "      <td>...</td>\n",
              "      <td>...</td>\n",
              "    </tr>\n",
              "    <tr>\n",
              "      <th>1228</th>\n",
              "      <td>11/17/2016</td>\n",
              "      <td>766.92</td>\n",
              "      <td>772.70</td>\n",
              "      <td>764.23</td>\n",
              "      <td>771.23</td>\n",
              "      <td>1,304,000</td>\n",
              "    </tr>\n",
              "    <tr>\n",
              "      <th>1229</th>\n",
              "      <td>11/18/2016</td>\n",
              "      <td>771.37</td>\n",
              "      <td>775.00</td>\n",
              "      <td>760.00</td>\n",
              "      <td>760.54</td>\n",
              "      <td>1,547,100</td>\n",
              "    </tr>\n",
              "    <tr>\n",
              "      <th>1230</th>\n",
              "      <td>11/21/2016</td>\n",
              "      <td>762.61</td>\n",
              "      <td>769.70</td>\n",
              "      <td>760.60</td>\n",
              "      <td>769.2</td>\n",
              "      <td>1,330,600</td>\n",
              "    </tr>\n",
              "    <tr>\n",
              "      <th>1231</th>\n",
              "      <td>11/22/2016</td>\n",
              "      <td>772.63</td>\n",
              "      <td>776.96</td>\n",
              "      <td>767.00</td>\n",
              "      <td>768.27</td>\n",
              "      <td>1,593,100</td>\n",
              "    </tr>\n",
              "    <tr>\n",
              "      <th>1232</th>\n",
              "      <td>11/23/2016</td>\n",
              "      <td>767.73</td>\n",
              "      <td>768.28</td>\n",
              "      <td>755.25</td>\n",
              "      <td>760.99</td>\n",
              "      <td>1,478,400</td>\n",
              "    </tr>\n",
              "    <tr>\n",
              "      <th>1233</th>\n",
              "      <td>11/25/2016</td>\n",
              "      <td>764.26</td>\n",
              "      <td>765.00</td>\n",
              "      <td>760.52</td>\n",
              "      <td>761.68</td>\n",
              "      <td>587,400</td>\n",
              "    </tr>\n",
              "    <tr>\n",
              "      <th>1234</th>\n",
              "      <td>11/28/2016</td>\n",
              "      <td>760.00</td>\n",
              "      <td>779.53</td>\n",
              "      <td>759.80</td>\n",
              "      <td>768.24</td>\n",
              "      <td>2,188,200</td>\n",
              "    </tr>\n",
              "    <tr>\n",
              "      <th>1235</th>\n",
              "      <td>11/29/2016</td>\n",
              "      <td>771.53</td>\n",
              "      <td>778.50</td>\n",
              "      <td>768.24</td>\n",
              "      <td>770.84</td>\n",
              "      <td>1,616,600</td>\n",
              "    </tr>\n",
              "    <tr>\n",
              "      <th>1236</th>\n",
              "      <td>11/30/2016</td>\n",
              "      <td>770.07</td>\n",
              "      <td>772.99</td>\n",
              "      <td>754.83</td>\n",
              "      <td>758.04</td>\n",
              "      <td>2,392,900</td>\n",
              "    </tr>\n",
              "    <tr>\n",
              "      <th>1237</th>\n",
              "      <td>12/1/2016</td>\n",
              "      <td>757.44</td>\n",
              "      <td>759.85</td>\n",
              "      <td>737.03</td>\n",
              "      <td>747.92</td>\n",
              "      <td>3,017,900</td>\n",
              "    </tr>\n",
              "    <tr>\n",
              "      <th>1238</th>\n",
              "      <td>12/2/2016</td>\n",
              "      <td>744.59</td>\n",
              "      <td>754.00</td>\n",
              "      <td>743.10</td>\n",
              "      <td>750.5</td>\n",
              "      <td>1,452,500</td>\n",
              "    </tr>\n",
              "    <tr>\n",
              "      <th>1239</th>\n",
              "      <td>12/5/2016</td>\n",
              "      <td>757.71</td>\n",
              "      <td>763.90</td>\n",
              "      <td>752.90</td>\n",
              "      <td>762.52</td>\n",
              "      <td>1,394,200</td>\n",
              "    </tr>\n",
              "    <tr>\n",
              "      <th>1240</th>\n",
              "      <td>12/6/2016</td>\n",
              "      <td>764.73</td>\n",
              "      <td>768.83</td>\n",
              "      <td>757.34</td>\n",
              "      <td>759.11</td>\n",
              "      <td>1,690,700</td>\n",
              "    </tr>\n",
              "    <tr>\n",
              "      <th>1241</th>\n",
              "      <td>12/7/2016</td>\n",
              "      <td>761.00</td>\n",
              "      <td>771.36</td>\n",
              "      <td>755.80</td>\n",
              "      <td>771.19</td>\n",
              "      <td>1,761,000</td>\n",
              "    </tr>\n",
              "    <tr>\n",
              "      <th>1242</th>\n",
              "      <td>12/8/2016</td>\n",
              "      <td>772.48</td>\n",
              "      <td>778.18</td>\n",
              "      <td>767.23</td>\n",
              "      <td>776.42</td>\n",
              "      <td>1,488,100</td>\n",
              "    </tr>\n",
              "    <tr>\n",
              "      <th>1243</th>\n",
              "      <td>12/9/2016</td>\n",
              "      <td>780.00</td>\n",
              "      <td>789.43</td>\n",
              "      <td>779.02</td>\n",
              "      <td>789.29</td>\n",
              "      <td>1,821,900</td>\n",
              "    </tr>\n",
              "    <tr>\n",
              "      <th>1244</th>\n",
              "      <td>12/12/2016</td>\n",
              "      <td>785.04</td>\n",
              "      <td>791.25</td>\n",
              "      <td>784.35</td>\n",
              "      <td>789.27</td>\n",
              "      <td>2,104,100</td>\n",
              "    </tr>\n",
              "    <tr>\n",
              "      <th>1245</th>\n",
              "      <td>12/13/2016</td>\n",
              "      <td>793.90</td>\n",
              "      <td>804.38</td>\n",
              "      <td>793.34</td>\n",
              "      <td>796.1</td>\n",
              "      <td>2,145,200</td>\n",
              "    </tr>\n",
              "    <tr>\n",
              "      <th>1246</th>\n",
              "      <td>12/14/2016</td>\n",
              "      <td>797.40</td>\n",
              "      <td>804.00</td>\n",
              "      <td>794.01</td>\n",
              "      <td>797.07</td>\n",
              "      <td>1,704,200</td>\n",
              "    </tr>\n",
              "    <tr>\n",
              "      <th>1247</th>\n",
              "      <td>12/15/2016</td>\n",
              "      <td>797.34</td>\n",
              "      <td>803.00</td>\n",
              "      <td>792.92</td>\n",
              "      <td>797.85</td>\n",
              "      <td>1,626,500</td>\n",
              "    </tr>\n",
              "    <tr>\n",
              "      <th>1248</th>\n",
              "      <td>12/16/2016</td>\n",
              "      <td>800.40</td>\n",
              "      <td>800.86</td>\n",
              "      <td>790.29</td>\n",
              "      <td>790.8</td>\n",
              "      <td>2,443,800</td>\n",
              "    </tr>\n",
              "    <tr>\n",
              "      <th>1249</th>\n",
              "      <td>12/19/2016</td>\n",
              "      <td>790.22</td>\n",
              "      <td>797.66</td>\n",
              "      <td>786.27</td>\n",
              "      <td>794.2</td>\n",
              "      <td>1,232,100</td>\n",
              "    </tr>\n",
              "    <tr>\n",
              "      <th>1250</th>\n",
              "      <td>12/20/2016</td>\n",
              "      <td>796.76</td>\n",
              "      <td>798.65</td>\n",
              "      <td>793.27</td>\n",
              "      <td>796.42</td>\n",
              "      <td>951,000</td>\n",
              "    </tr>\n",
              "    <tr>\n",
              "      <th>1251</th>\n",
              "      <td>12/21/2016</td>\n",
              "      <td>795.84</td>\n",
              "      <td>796.68</td>\n",
              "      <td>787.10</td>\n",
              "      <td>794.56</td>\n",
              "      <td>1,211,300</td>\n",
              "    </tr>\n",
              "    <tr>\n",
              "      <th>1252</th>\n",
              "      <td>12/22/2016</td>\n",
              "      <td>792.36</td>\n",
              "      <td>793.32</td>\n",
              "      <td>788.58</td>\n",
              "      <td>791.26</td>\n",
              "      <td>972,200</td>\n",
              "    </tr>\n",
              "    <tr>\n",
              "      <th>1253</th>\n",
              "      <td>12/23/2016</td>\n",
              "      <td>790.90</td>\n",
              "      <td>792.74</td>\n",
              "      <td>787.28</td>\n",
              "      <td>789.91</td>\n",
              "      <td>623,400</td>\n",
              "    </tr>\n",
              "    <tr>\n",
              "      <th>1254</th>\n",
              "      <td>12/27/2016</td>\n",
              "      <td>790.68</td>\n",
              "      <td>797.86</td>\n",
              "      <td>787.66</td>\n",
              "      <td>791.55</td>\n",
              "      <td>789,100</td>\n",
              "    </tr>\n",
              "    <tr>\n",
              "      <th>1255</th>\n",
              "      <td>12/28/2016</td>\n",
              "      <td>793.70</td>\n",
              "      <td>794.23</td>\n",
              "      <td>783.20</td>\n",
              "      <td>785.05</td>\n",
              "      <td>1,153,800</td>\n",
              "    </tr>\n",
              "    <tr>\n",
              "      <th>1256</th>\n",
              "      <td>12/29/2016</td>\n",
              "      <td>783.33</td>\n",
              "      <td>785.93</td>\n",
              "      <td>778.92</td>\n",
              "      <td>782.79</td>\n",
              "      <td>744,300</td>\n",
              "    </tr>\n",
              "    <tr>\n",
              "      <th>1257</th>\n",
              "      <td>12/30/2016</td>\n",
              "      <td>782.75</td>\n",
              "      <td>782.78</td>\n",
              "      <td>770.41</td>\n",
              "      <td>771.82</td>\n",
              "      <td>1,770,000</td>\n",
              "    </tr>\n",
              "  </tbody>\n",
              "</table>\n",
              "<p>1258 rows × 6 columns</p>\n",
              "</div>"
            ],
            "text/plain": [
              "            Date    Open    High     Low   Close      Volume\n",
              "0       1/3/2012  325.25  332.83  324.97  663.59   7,380,500\n",
              "1       1/4/2012  331.27  333.87  329.08  666.45   5,749,400\n",
              "2       1/5/2012  329.83  330.75  326.89  657.21   6,590,300\n",
              "3       1/6/2012  328.34  328.77  323.68  648.24   5,405,900\n",
              "4       1/9/2012  322.04  322.29  309.46  620.76  11,688,800\n",
              "5      1/10/2012  313.70  315.72  307.30  621.43   8,824,000\n",
              "6      1/11/2012  310.59  313.52  309.40  624.25   4,817,800\n",
              "7      1/12/2012  314.43  315.26  312.08  627.92   3,764,400\n",
              "8      1/13/2012  311.96  312.30  309.37  623.28   4,631,800\n",
              "9      1/17/2012  314.81  314.81  311.67  626.86   3,832,800\n",
              "10     1/18/2012  312.14  315.82  309.90  631.18   5,544,000\n",
              "11     1/19/2012  319.30  319.30  314.55  637.82  12,657,800\n",
              "12     1/20/2012  294.16  294.40  289.76  584.39  21,231,800\n",
              "13     1/23/2012  291.91  293.23  290.49  583.92   6,851,300\n",
              "14     1/24/2012  292.07  292.74  287.92  579.34   6,134,400\n",
              "15     1/25/2012  287.68  288.27  282.13  567.93  10,012,700\n",
              "16     1/26/2012  284.92  286.17  281.22  566.54   6,476,500\n",
              "17     1/27/2012  284.32  289.08  283.60  578.39   7,262,000\n",
              "18     1/30/2012  287.95  288.92  285.63  576.11   4,678,400\n",
              "19     1/31/2012  290.41  290.91  286.50  578.52   4,300,700\n",
              "20      2/1/2012  291.38  291.66  288.49  579.24   4,658,700\n",
              "21      2/2/2012  291.34  292.11  289.95  583.51   4,847,400\n",
              "22      2/3/2012  294.23  297.42  292.93   594.7   6,360,700\n",
              "23      2/6/2012  296.39  304.27  295.90  607.42   7,386,700\n",
              "24      2/7/2012  302.44  303.56  300.75  605.11   4,199,700\n",
              "25      2/8/2012  303.18  304.53  301.24  608.18   3,686,400\n",
              "26      2/9/2012  304.87  306.10  303.36  609.79   4,546,300\n",
              "27     2/10/2012  302.81  302.93  300.87  604.25   4,667,700\n",
              "28     2/13/2012  304.11  305.77  303.87  610.52   3,646,100\n",
              "29     2/14/2012  304.63  304.86  301.25  608.09   3,620,900\n",
              "...          ...     ...     ...     ...     ...         ...\n",
              "1228  11/17/2016  766.92  772.70  764.23  771.23   1,304,000\n",
              "1229  11/18/2016  771.37  775.00  760.00  760.54   1,547,100\n",
              "1230  11/21/2016  762.61  769.70  760.60   769.2   1,330,600\n",
              "1231  11/22/2016  772.63  776.96  767.00  768.27   1,593,100\n",
              "1232  11/23/2016  767.73  768.28  755.25  760.99   1,478,400\n",
              "1233  11/25/2016  764.26  765.00  760.52  761.68     587,400\n",
              "1234  11/28/2016  760.00  779.53  759.80  768.24   2,188,200\n",
              "1235  11/29/2016  771.53  778.50  768.24  770.84   1,616,600\n",
              "1236  11/30/2016  770.07  772.99  754.83  758.04   2,392,900\n",
              "1237   12/1/2016  757.44  759.85  737.03  747.92   3,017,900\n",
              "1238   12/2/2016  744.59  754.00  743.10   750.5   1,452,500\n",
              "1239   12/5/2016  757.71  763.90  752.90  762.52   1,394,200\n",
              "1240   12/6/2016  764.73  768.83  757.34  759.11   1,690,700\n",
              "1241   12/7/2016  761.00  771.36  755.80  771.19   1,761,000\n",
              "1242   12/8/2016  772.48  778.18  767.23  776.42   1,488,100\n",
              "1243   12/9/2016  780.00  789.43  779.02  789.29   1,821,900\n",
              "1244  12/12/2016  785.04  791.25  784.35  789.27   2,104,100\n",
              "1245  12/13/2016  793.90  804.38  793.34   796.1   2,145,200\n",
              "1246  12/14/2016  797.40  804.00  794.01  797.07   1,704,200\n",
              "1247  12/15/2016  797.34  803.00  792.92  797.85   1,626,500\n",
              "1248  12/16/2016  800.40  800.86  790.29   790.8   2,443,800\n",
              "1249  12/19/2016  790.22  797.66  786.27   794.2   1,232,100\n",
              "1250  12/20/2016  796.76  798.65  793.27  796.42     951,000\n",
              "1251  12/21/2016  795.84  796.68  787.10  794.56   1,211,300\n",
              "1252  12/22/2016  792.36  793.32  788.58  791.26     972,200\n",
              "1253  12/23/2016  790.90  792.74  787.28  789.91     623,400\n",
              "1254  12/27/2016  790.68  797.86  787.66  791.55     789,100\n",
              "1255  12/28/2016  793.70  794.23  783.20  785.05   1,153,800\n",
              "1256  12/29/2016  783.33  785.93  778.92  782.79     744,300\n",
              "1257  12/30/2016  782.75  782.78  770.41  771.82   1,770,000\n",
              "\n",
              "[1258 rows x 6 columns]"
            ]
          },
          "metadata": {
            "tags": []
          },
          "execution_count": 36
        }
      ]
    },
    {
      "cell_type": "code",
      "metadata": {
        "id": "JedMe805u2YV",
        "colab_type": "code",
        "outputId": "cf2fee94-3f7f-48c3-d993-0a944b7fa1c1",
        "colab": {
          "base_uri": "https://localhost:8080/",
          "height": 34
        }
      },
      "source": [
        "training_set = dataset_train.iloc[:, 1:2].values; training_set.shape"
      ],
      "execution_count": 0,
      "outputs": [
        {
          "output_type": "execute_result",
          "data": {
            "text/plain": [
              "(1258, 1)"
            ]
          },
          "metadata": {
            "tags": []
          },
          "execution_count": 37
        }
      ]
    },
    {
      "cell_type": "code",
      "metadata": {
        "id": "RTwA487Fu2Yb",
        "colab_type": "code",
        "outputId": "b2abc8ea-1817-480c-c27e-0cca4ad5a684",
        "colab": {
          "base_uri": "https://localhost:8080/",
          "height": 34
        }
      },
      "source": [
        "# Feature Scaling\n",
        "from sklearn.preprocessing import MinMaxScaler\n",
        "sc = MinMaxScaler(feature_range = (0, 1)); sc"
      ],
      "execution_count": 0,
      "outputs": [
        {
          "output_type": "execute_result",
          "data": {
            "text/plain": [
              "MinMaxScaler(copy=True, feature_range=(0, 1))"
            ]
          },
          "metadata": {
            "tags": []
          },
          "execution_count": 38
        }
      ]
    },
    {
      "cell_type": "code",
      "metadata": {
        "id": "WSL0wbPNu2Yg",
        "colab_type": "code",
        "outputId": "78b0bb85-5e2f-47c9-b55f-ae30f99021a2",
        "colab": {
          "base_uri": "https://localhost:8080/",
          "height": 34
        }
      },
      "source": [
        "training_set_scaled = sc.fit_transform(training_set);training_set_scaled.shape"
      ],
      "execution_count": 0,
      "outputs": [
        {
          "output_type": "execute_result",
          "data": {
            "text/plain": [
              "(1258, 1)"
            ]
          },
          "metadata": {
            "tags": []
          },
          "execution_count": 39
        }
      ]
    },
    {
      "cell_type": "code",
      "metadata": {
        "id": "zt_gHvjbu2Ym",
        "colab_type": "code",
        "colab": {}
      },
      "source": [
        "# Creating a data structure with 60 timesteps and 1 output\n",
        "X_train = []\n",
        "y_train = []\n",
        "for i in range(60, 1258):\n",
        "    X_train.append(training_set_scaled[i-60:i, 0])\n",
        "    y_train.append(training_set_scaled[i, 0])\n",
        "X_train, y_train = np.array(X_train), np.array(y_train)"
      ],
      "execution_count": 0,
      "outputs": []
    },
    {
      "cell_type": "code",
      "metadata": {
        "scrolled": true,
        "id": "bOv3LCZvu2Yr",
        "colab_type": "code",
        "outputId": "fe4bfee5-fe03-4d58-902b-fa23527fbdb8",
        "colab": {
          "base_uri": "https://localhost:8080/",
          "height": 34
        }
      },
      "source": [
        "X_train.shape"
      ],
      "execution_count": 0,
      "outputs": [
        {
          "output_type": "execute_result",
          "data": {
            "text/plain": [
              "(1198, 60)"
            ]
          },
          "metadata": {
            "tags": []
          },
          "execution_count": 41
        }
      ]
    },
    {
      "cell_type": "code",
      "metadata": {
        "id": "hJdbGpHDu2Yy",
        "colab_type": "code",
        "outputId": "37c8c63b-6f2e-4e5f-b0f3-be2ccbad6cd9",
        "colab": {
          "base_uri": "https://localhost:8080/",
          "height": 34
        }
      },
      "source": [
        "y_train.shape\n"
      ],
      "execution_count": 0,
      "outputs": [
        {
          "output_type": "execute_result",
          "data": {
            "text/plain": [
              "(1198,)"
            ]
          },
          "metadata": {
            "tags": []
          },
          "execution_count": 42
        }
      ]
    },
    {
      "cell_type": "code",
      "metadata": {
        "id": "JtGiuFESu2Y5",
        "colab_type": "code",
        "outputId": "b29c0348-895d-4c75-f3d6-9291d4fabe3c",
        "colab": {
          "base_uri": "https://localhost:8080/",
          "height": 243
        }
      },
      "source": [
        "X_train"
      ],
      "execution_count": 0,
      "outputs": [
        {
          "output_type": "execute_result",
          "data": {
            "text/plain": [
              "array([[0.08581368, 0.09701243, 0.09433366, ..., 0.07846566, 0.08034452,\n",
              "        0.08497656],\n",
              "       [0.09701243, 0.09433366, 0.09156187, ..., 0.08034452, 0.08497656,\n",
              "        0.08627874],\n",
              "       [0.09433366, 0.09156187, 0.07984225, ..., 0.08497656, 0.08627874,\n",
              "        0.08471612],\n",
              "       ...,\n",
              "       [0.92106928, 0.92438053, 0.93048218, ..., 0.95475854, 0.95204256,\n",
              "        0.95163331],\n",
              "       [0.92438053, 0.93048218, 0.9299055 , ..., 0.95204256, 0.95163331,\n",
              "        0.95725128],\n",
              "       [0.93048218, 0.9299055 , 0.93113327, ..., 0.95163331, 0.95725128,\n",
              "        0.93796041]])"
            ]
          },
          "metadata": {
            "tags": []
          },
          "execution_count": 43
        }
      ]
    },
    {
      "cell_type": "code",
      "metadata": {
        "id": "mQdwXbodu2Y_",
        "colab_type": "code",
        "colab": {}
      },
      "source": [
        ""
      ],
      "execution_count": 0,
      "outputs": []
    },
    {
      "cell_type": "code",
      "metadata": {
        "id": "ooreNSXWu2ZN",
        "colab_type": "code",
        "colab": {}
      },
      "source": [
        "# Reshaping\n",
        "X_train = np.reshape(X_train, (X_train.shape[0], X_train.shape[1], 1))"
      ],
      "execution_count": 0,
      "outputs": []
    },
    {
      "cell_type": "code",
      "metadata": {
        "id": "VxZFkoCNu2ZR",
        "colab_type": "code",
        "colab": {}
      },
      "source": [
        "#X_train"
      ],
      "execution_count": 0,
      "outputs": []
    },
    {
      "cell_type": "code",
      "metadata": {
        "id": "5341kyaDu2ZW",
        "colab_type": "code",
        "colab": {}
      },
      "source": [
        "# Part 2 - Building the RNN\n",
        "\n",
        "# Importing the Keras libraries and packages\n",
        "from keras.models import Sequential\n",
        "from keras.layers import Dense\n",
        "from keras.layers import LSTM\n",
        "from keras.layers import Dropout"
      ],
      "execution_count": 0,
      "outputs": []
    },
    {
      "cell_type": "code",
      "metadata": {
        "id": "7HGoN_W0u2Zb",
        "colab_type": "code",
        "colab": {}
      },
      "source": [
        "#erroe"
      ],
      "execution_count": 0,
      "outputs": []
    },
    {
      "cell_type": "code",
      "metadata": {
        "id": "aJl4yPQ7u2Zi",
        "colab_type": "code",
        "colab": {}
      },
      "source": [
        "# Initialising the RNN\n",
        "regressor = Sequential()"
      ],
      "execution_count": 0,
      "outputs": []
    },
    {
      "cell_type": "code",
      "metadata": {
        "id": "2M_fordVu2Zm",
        "colab_type": "code",
        "outputId": "f36e21bc-5f40-4eb7-b031-fcd5c8133f96",
        "colab": {
          "base_uri": "https://localhost:8080/",
          "height": 34
        }
      },
      "source": [
        "regressor"
      ],
      "execution_count": 0,
      "outputs": [
        {
          "output_type": "execute_result",
          "data": {
            "text/plain": [
              "<keras.engine.sequential.Sequential at 0x7fd6c3562208>"
            ]
          },
          "metadata": {
            "tags": []
          },
          "execution_count": 49
        }
      ]
    },
    {
      "cell_type": "code",
      "metadata": {
        "scrolled": true,
        "id": "Rsk2OF2Pu2Zt",
        "colab_type": "code",
        "outputId": "2a1b2cc5-7374-49db-a22e-772394bac570",
        "colab": {
          "base_uri": "https://localhost:8080/",
          "height": 1000
        }
      },
      "source": [
        "X_train[1]"
      ],
      "execution_count": 0,
      "outputs": [
        {
          "output_type": "execute_result",
          "data": {
            "text/plain": [
              "array([[0.09701243],\n",
              "       [0.09433366],\n",
              "       [0.09156187],\n",
              "       [0.07984225],\n",
              "       [0.0643277 ],\n",
              "       [0.0585423 ],\n",
              "       [0.06568569],\n",
              "       [0.06109085],\n",
              "       [0.06639259],\n",
              "       [0.0614257 ],\n",
              "       [0.07474514],\n",
              "       [0.02797827],\n",
              "       [0.02379269],\n",
              "       [0.02409033],\n",
              "       [0.0159238 ],\n",
              "       [0.01078949],\n",
              "       [0.00967334],\n",
              "       [0.01642607],\n",
              "       [0.02100231],\n",
              "       [0.02280676],\n",
              "       [0.02273235],\n",
              "       [0.02810849],\n",
              "       [0.03212665],\n",
              "       [0.0433812 ],\n",
              "       [0.04475779],\n",
              "       [0.04790163],\n",
              "       [0.0440695 ],\n",
              "       [0.04648783],\n",
              "       [0.04745517],\n",
              "       [0.04873875],\n",
              "       [0.03936305],\n",
              "       [0.04137213],\n",
              "       [0.04034898],\n",
              "       [0.04784582],\n",
              "       [0.04325099],\n",
              "       [0.04356723],\n",
              "       [0.04286033],\n",
              "       [0.04602277],\n",
              "       [0.05398467],\n",
              "       [0.05738894],\n",
              "       [0.05714711],\n",
              "       [0.05569611],\n",
              "       [0.04421832],\n",
              "       [0.04514845],\n",
              "       [0.04605997],\n",
              "       [0.04412531],\n",
              "       [0.03675869],\n",
              "       [0.04486941],\n",
              "       [0.05065481],\n",
              "       [0.05214302],\n",
              "       [0.05612397],\n",
              "       [0.05818885],\n",
              "       [0.06540665],\n",
              "       [0.06882953],\n",
              "       [0.07243843],\n",
              "       [0.07993526],\n",
              "       [0.07846566],\n",
              "       [0.08034452],\n",
              "       [0.08497656],\n",
              "       [0.08627874]])"
            ]
          },
          "metadata": {
            "tags": []
          },
          "execution_count": 50
        }
      ]
    },
    {
      "cell_type": "code",
      "metadata": {
        "id": "tqX97lKEu2Zy",
        "colab_type": "code",
        "colab": {}
      },
      "source": [
        "# Adding the first LSTM layer and some Dropout regularisation\n",
        "regressor.add(LSTM(units = 50, return_sequences = True, input_shape = (X_train.shape[1], 1)))\n",
        "regressor.add(Dropout(0.2))\n",
        "\n",
        "# Adding a second LSTM layer and some Dropout regularisation\n",
        "regressor.add(LSTM(units = 50, return_sequences = True))\n",
        "regressor.add(Dropout(0.2))\n",
        "\n",
        "# Adding a third LSTM layer and some Dropout regularisation\n",
        "regressor.add(LSTM(units = 50, return_sequences = True))\n",
        "regressor.add(Dropout(0.2))\n",
        "\n",
        "# Adding a fourth LSTM layer and some Dropout regularisation\n",
        "regressor.add(LSTM(units = 50))\n",
        "regressor.add(Dropout(0.2))\n",
        "\n",
        "# Adding the output layer\n",
        "regressor.add(Dense(units = 1))\n",
        "\n",
        "# Compiling the RNN\n",
        "regressor.compile(optimizer = 'adam', loss = 'mean_squared_error')"
      ],
      "execution_count": 0,
      "outputs": []
    },
    {
      "cell_type": "code",
      "metadata": {
        "id": "IQtxm2AYu2Z4",
        "colab_type": "code",
        "colab": {}
      },
      "source": [
        "#error"
      ],
      "execution_count": 0,
      "outputs": []
    },
    {
      "cell_type": "code",
      "metadata": {
        "scrolled": false,
        "id": "Sip5Kz-8u2Z9",
        "colab_type": "code",
        "outputId": "2ef79d35-cbd0-484e-d414-9a887819dd4c",
        "colab": {
          "base_uri": "https://localhost:8080/",
          "height": 469
        }
      },
      "source": [
        "regressor.summary()"
      ],
      "execution_count": 0,
      "outputs": [
        {
          "output_type": "stream",
          "text": [
            "Model: \"sequential_2\"\n",
            "_________________________________________________________________\n",
            "Layer (type)                 Output Shape              Param #   \n",
            "=================================================================\n",
            "lstm_5 (LSTM)                (None, 60, 50)            10400     \n",
            "_________________________________________________________________\n",
            "dropout_5 (Dropout)          (None, 60, 50)            0         \n",
            "_________________________________________________________________\n",
            "lstm_6 (LSTM)                (None, 60, 50)            20200     \n",
            "_________________________________________________________________\n",
            "dropout_6 (Dropout)          (None, 60, 50)            0         \n",
            "_________________________________________________________________\n",
            "lstm_7 (LSTM)                (None, 60, 50)            20200     \n",
            "_________________________________________________________________\n",
            "dropout_7 (Dropout)          (None, 60, 50)            0         \n",
            "_________________________________________________________________\n",
            "lstm_8 (LSTM)                (None, 50)                20200     \n",
            "_________________________________________________________________\n",
            "dropout_8 (Dropout)          (None, 50)                0         \n",
            "_________________________________________________________________\n",
            "dense_2 (Dense)              (None, 1)                 51        \n",
            "=================================================================\n",
            "Total params: 71,051\n",
            "Trainable params: 71,051\n",
            "Non-trainable params: 0\n",
            "_________________________________________________________________\n"
          ],
          "name": "stdout"
        }
      ]
    },
    {
      "cell_type": "code",
      "metadata": {
        "scrolled": true,
        "id": "wsf_6UI3u2aA",
        "colab_type": "code",
        "outputId": "8f1785ff-7997-436c-e7c9-cec1137747db",
        "colab": {
          "base_uri": "https://localhost:8080/",
          "height": 1000
        }
      },
      "source": [
        "# Fitting the RNN to the Training set6\n",
        "regressor.fit(X_train, y_train, epochs = 100, batch_size = 32)"
      ],
      "execution_count": 0,
      "outputs": [
        {
          "output_type": "stream",
          "text": [
            "Epoch 1/100\n",
            "1198/1198 [==============================] - 9s 8ms/step - loss: 0.0668\n",
            "Epoch 2/100\n",
            "1198/1198 [==============================] - 6s 5ms/step - loss: 0.0069\n",
            "Epoch 3/100\n",
            "1198/1198 [==============================] - 6s 5ms/step - loss: 0.0049\n",
            "Epoch 4/100\n",
            "1198/1198 [==============================] - 6s 5ms/step - loss: 0.0048\n",
            "Epoch 5/100\n",
            "1198/1198 [==============================] - 6s 5ms/step - loss: 0.0051\n",
            "Epoch 6/100\n",
            "1198/1198 [==============================] - 6s 5ms/step - loss: 0.0051\n",
            "Epoch 7/100\n",
            "1198/1198 [==============================] - 6s 5ms/step - loss: 0.0054\n",
            "Epoch 8/100\n",
            "1198/1198 [==============================] - 6s 5ms/step - loss: 0.0043\n",
            "Epoch 9/100\n",
            "1198/1198 [==============================] - 6s 5ms/step - loss: 0.0044\n",
            "Epoch 10/100\n",
            "1198/1198 [==============================] - 6s 5ms/step - loss: 0.0042\n",
            "Epoch 11/100\n",
            "1198/1198 [==============================] - 6s 5ms/step - loss: 0.0038\n",
            "Epoch 12/100\n",
            "1198/1198 [==============================] - 6s 5ms/step - loss: 0.0039\n",
            "Epoch 13/100\n",
            "1198/1198 [==============================] - 6s 5ms/step - loss: 0.0045\n",
            "Epoch 14/100\n",
            "1198/1198 [==============================] - 6s 5ms/step - loss: 0.0034\n",
            "Epoch 15/100\n",
            "1198/1198 [==============================] - 6s 5ms/step - loss: 0.0039\n",
            "Epoch 16/100\n",
            "1198/1198 [==============================] - 6s 5ms/step - loss: 0.0037\n",
            "Epoch 17/100\n",
            "1198/1198 [==============================] - 6s 5ms/step - loss: 0.0037\n",
            "Epoch 18/100\n",
            "1198/1198 [==============================] - 6s 5ms/step - loss: 0.0034\n",
            "Epoch 19/100\n",
            "1198/1198 [==============================] - 6s 5ms/step - loss: 0.0032\n",
            "Epoch 20/100\n",
            "1198/1198 [==============================] - 6s 5ms/step - loss: 0.0034\n",
            "Epoch 21/100\n",
            "1198/1198 [==============================] - 6s 5ms/step - loss: 0.0032\n",
            "Epoch 22/100\n",
            "1198/1198 [==============================] - 6s 5ms/step - loss: 0.0032\n",
            "Epoch 23/100\n",
            "1198/1198 [==============================] - 6s 5ms/step - loss: 0.0031\n",
            "Epoch 24/100\n",
            "1198/1198 [==============================] - 6s 5ms/step - loss: 0.0032\n",
            "Epoch 25/100\n",
            "1198/1198 [==============================] - 6s 5ms/step - loss: 0.0031\n",
            "Epoch 26/100\n",
            "1198/1198 [==============================] - 6s 5ms/step - loss: 0.0033\n",
            "Epoch 27/100\n",
            "1198/1198 [==============================] - 6s 5ms/step - loss: 0.0035\n",
            "Epoch 28/100\n",
            "1198/1198 [==============================] - 6s 5ms/step - loss: 0.0030\n",
            "Epoch 29/100\n",
            "1198/1198 [==============================] - 6s 5ms/step - loss: 0.0029\n",
            "Epoch 30/100\n",
            "1198/1198 [==============================] - 6s 5ms/step - loss: 0.0031\n",
            "Epoch 31/100\n",
            "1198/1198 [==============================] - 6s 5ms/step - loss: 0.0031\n",
            "Epoch 32/100\n",
            "1198/1198 [==============================] - 6s 5ms/step - loss: 0.0029\n",
            "Epoch 33/100\n",
            "1198/1198 [==============================] - 6s 5ms/step - loss: 0.0028\n",
            "Epoch 34/100\n",
            "1198/1198 [==============================] - 6s 5ms/step - loss: 0.0026\n",
            "Epoch 35/100\n",
            "1198/1198 [==============================] - 6s 5ms/step - loss: 0.0030\n",
            "Epoch 36/100\n",
            "1198/1198 [==============================] - 6s 5ms/step - loss: 0.0031\n",
            "Epoch 37/100\n",
            "1198/1198 [==============================] - 6s 5ms/step - loss: 0.0029\n",
            "Epoch 38/100\n",
            "1198/1198 [==============================] - 6s 5ms/step - loss: 0.0030\n",
            "Epoch 39/100\n",
            "1198/1198 [==============================] - 6s 5ms/step - loss: 0.0029\n",
            "Epoch 40/100\n",
            "1198/1198 [==============================] - 6s 5ms/step - loss: 0.0028\n",
            "Epoch 41/100\n",
            "1198/1198 [==============================] - 6s 5ms/step - loss: 0.0025\n",
            "Epoch 42/100\n",
            "  64/1198 [>.............................] - ETA: 9s - loss: 0.0025"
          ],
          "name": "stdout"
        },
        {
          "output_type": "stream",
          "text": [
            "/usr/local/lib/python3.6/dist-packages/keras/callbacks.py:95: RuntimeWarning: Method (on_train_batch_end) is slow compared to the batch update (0.195101). Check your callbacks.\n",
            "  % (hook_name, delta_t_median), RuntimeWarning)\n"
          ],
          "name": "stderr"
        },
        {
          "output_type": "stream",
          "text": [
            "1198/1198 [==============================] - 6s 5ms/step - loss: 0.0025\n",
            "Epoch 43/100\n",
            "1198/1198 [==============================] - 6s 5ms/step - loss: 0.0024\n",
            "Epoch 44/100\n",
            "1198/1198 [==============================] - 6s 5ms/step - loss: 0.0024\n",
            "Epoch 45/100\n",
            "1198/1198 [==============================] - 6s 5ms/step - loss: 0.0027\n",
            "Epoch 46/100\n",
            "1198/1198 [==============================] - 6s 5ms/step - loss: 0.0023\n",
            "Epoch 47/100\n",
            "1198/1198 [==============================] - 6s 5ms/step - loss: 0.0025\n",
            "Epoch 48/100\n",
            "1198/1198 [==============================] - 6s 5ms/step - loss: 0.0023\n",
            "Epoch 49/100\n",
            "1198/1198 [==============================] - 6s 5ms/step - loss: 0.0025\n",
            "Epoch 50/100\n",
            "1198/1198 [==============================] - 6s 5ms/step - loss: 0.0024\n",
            "Epoch 51/100\n",
            "1198/1198 [==============================] - 6s 5ms/step - loss: 0.0026\n",
            "Epoch 52/100\n",
            "1198/1198 [==============================] - 6s 5ms/step - loss: 0.0021\n",
            "Epoch 53/100\n",
            "1198/1198 [==============================] - 6s 5ms/step - loss: 0.0025\n",
            "Epoch 54/100\n",
            "1198/1198 [==============================] - 6s 5ms/step - loss: 0.0022\n",
            "Epoch 55/100\n",
            "1198/1198 [==============================] - 6s 5ms/step - loss: 0.0026\n",
            "Epoch 56/100\n",
            "1198/1198 [==============================] - 6s 5ms/step - loss: 0.0021\n",
            "Epoch 57/100\n",
            "1198/1198 [==============================] - 6s 5ms/step - loss: 0.0024\n",
            "Epoch 58/100\n",
            "1198/1198 [==============================] - 6s 5ms/step - loss: 0.0023\n",
            "Epoch 59/100\n",
            "1198/1198 [==============================] - 6s 5ms/step - loss: 0.0024\n",
            "Epoch 60/100\n",
            "1198/1198 [==============================] - 6s 5ms/step - loss: 0.0021\n",
            "Epoch 61/100\n",
            "1198/1198 [==============================] - 6s 5ms/step - loss: 0.0021\n",
            "Epoch 62/100\n",
            "1198/1198 [==============================] - 6s 5ms/step - loss: 0.0021\n",
            "Epoch 63/100\n",
            "1198/1198 [==============================] - 6s 5ms/step - loss: 0.0022\n",
            "Epoch 64/100\n",
            "1198/1198 [==============================] - 6s 5ms/step - loss: 0.0022\n",
            "Epoch 65/100\n",
            "1198/1198 [==============================] - 6s 5ms/step - loss: 0.0020\n",
            "Epoch 66/100\n",
            "1198/1198 [==============================] - 6s 5ms/step - loss: 0.0020\n",
            "Epoch 67/100\n",
            "1198/1198 [==============================] - 6s 5ms/step - loss: 0.0021\n",
            "Epoch 68/100\n",
            "1198/1198 [==============================] - 6s 5ms/step - loss: 0.0020\n",
            "Epoch 69/100\n",
            "1198/1198 [==============================] - 6s 5ms/step - loss: 0.0020\n",
            "Epoch 70/100\n",
            "1198/1198 [==============================] - 6s 5ms/step - loss: 0.0021\n",
            "Epoch 71/100\n",
            "1198/1198 [==============================] - 6s 5ms/step - loss: 0.0020\n",
            "Epoch 72/100\n",
            "1198/1198 [==============================] - 6s 5ms/step - loss: 0.0018\n",
            "Epoch 73/100\n",
            "1198/1198 [==============================] - 6s 5ms/step - loss: 0.0018\n",
            "Epoch 74/100\n",
            "1198/1198 [==============================] - 6s 5ms/step - loss: 0.0017\n",
            "Epoch 75/100\n",
            "1198/1198 [==============================] - 6s 5ms/step - loss: 0.0018\n",
            "Epoch 76/100\n",
            "1198/1198 [==============================] - 6s 5ms/step - loss: 0.0016\n",
            "Epoch 77/100\n",
            "1198/1198 [==============================] - 6s 5ms/step - loss: 0.0018\n",
            "Epoch 78/100\n",
            "1198/1198 [==============================] - 6s 5ms/step - loss: 0.0017\n",
            "Epoch 79/100\n",
            "1198/1198 [==============================] - 6s 5ms/step - loss: 0.0016\n",
            "Epoch 80/100\n",
            "1198/1198 [==============================] - 6s 5ms/step - loss: 0.0019\n",
            "Epoch 81/100\n",
            "1198/1198 [==============================] - 6s 5ms/step - loss: 0.0017\n",
            "Epoch 82/100\n",
            "1198/1198 [==============================] - 6s 5ms/step - loss: 0.0017\n",
            "Epoch 83/100\n",
            "1198/1198 [==============================] - 6s 5ms/step - loss: 0.0015\n",
            "Epoch 84/100\n",
            "1198/1198 [==============================] - 6s 5ms/step - loss: 0.0017\n",
            "Epoch 85/100\n",
            "1198/1198 [==============================] - 6s 5ms/step - loss: 0.0017\n",
            "Epoch 86/100\n",
            "1198/1198 [==============================] - 6s 5ms/step - loss: 0.0015\n",
            "Epoch 87/100\n",
            "1198/1198 [==============================] - 6s 5ms/step - loss: 0.0016\n",
            "Epoch 88/100\n",
            "1198/1198 [==============================] - 6s 5ms/step - loss: 0.0017\n",
            "Epoch 89/100\n",
            "1198/1198 [==============================] - 6s 5ms/step - loss: 0.0018\n",
            "Epoch 90/100\n",
            "1198/1198 [==============================] - 6s 5ms/step - loss: 0.0016\n",
            "Epoch 91/100\n",
            "1198/1198 [==============================] - 6s 5ms/step - loss: 0.0017\n",
            "Epoch 92/100\n",
            "1198/1198 [==============================] - 6s 5ms/step - loss: 0.0018\n",
            "Epoch 93/100\n",
            "1198/1198 [==============================] - 6s 5ms/step - loss: 0.0015\n",
            "Epoch 94/100\n",
            "1198/1198 [==============================] - 6s 5ms/step - loss: 0.0016\n",
            "Epoch 95/100\n",
            "1198/1198 [==============================] - 6s 5ms/step - loss: 0.0017\n",
            "Epoch 96/100\n",
            "1198/1198 [==============================] - 6s 5ms/step - loss: 0.0015\n",
            "Epoch 97/100\n",
            "1198/1198 [==============================] - 6s 5ms/step - loss: 0.0016\n",
            "Epoch 98/100\n",
            "1198/1198 [==============================] - 6s 5ms/step - loss: 0.0018\n",
            "Epoch 99/100\n",
            "1198/1198 [==============================] - 6s 5ms/step - loss: 0.0014\n",
            "Epoch 100/100\n",
            "1198/1198 [==============================] - 6s 5ms/step - loss: 0.0015\n"
          ],
          "name": "stdout"
        },
        {
          "output_type": "execute_result",
          "data": {
            "text/plain": [
              "<keras.callbacks.History at 0x7fd6c3562dd8>"
            ]
          },
          "metadata": {
            "tags": []
          },
          "execution_count": 54
        }
      ]
    },
    {
      "cell_type": "code",
      "metadata": {
        "id": "-ob8kWuFu2aF",
        "colab_type": "code",
        "colab": {}
      },
      "source": [
        "# Part 3 - Making the predictions and visualising the results\n",
        "\n",
        "# Getting the real stock price of 2017\n",
        "dataset_test = pd.read_csv('/content/drive/My Drive/Colab Notebooks/Google_Stock_Price_Test.csv')\n",
        "real_stock_price = dataset_test.iloc[:, 1:2].values\n",
        "\n",
        "# Getting the predicted stock price of 2017\n",
        "dataset_total = pd.concat((dataset_train['Open'], dataset_test['Open']), axis = 0)\n",
        "inputs = dataset_total[len(dataset_total) - len(dataset_test) - 60:].values"
      ],
      "execution_count": 0,
      "outputs": []
    },
    {
      "cell_type": "code",
      "metadata": {
        "collapsed": true,
        "id": "cV3Ud0aiu2aI",
        "colab_type": "code",
        "outputId": "3ada884f-3612-4a7d-9881-a1d315451607",
        "colab": {
          "base_uri": "https://localhost:8080/",
          "height": 1000
        }
      },
      "source": [
        "inputs = inputs.reshape(-1,1); inputs"
      ],
      "execution_count": 0,
      "outputs": [
        {
          "output_type": "execute_result",
          "data": {
            "text/plain": [
              "array([[779.  ],\n",
              "       [779.66],\n",
              "       [777.71],\n",
              "       [786.66],\n",
              "       [783.76],\n",
              "       [781.22],\n",
              "       [781.65],\n",
              "       [779.8 ],\n",
              "       [787.85],\n",
              "       [798.24],\n",
              "       [803.3 ],\n",
              "       [795.  ],\n",
              "       [804.9 ],\n",
              "       [816.68],\n",
              "       [806.34],\n",
              "       [801.  ],\n",
              "       [808.35],\n",
              "       [795.47],\n",
              "       [782.89],\n",
              "       [778.2 ],\n",
              "       [767.25],\n",
              "       [750.66],\n",
              "       [774.5 ],\n",
              "       [783.4 ],\n",
              "       [779.94],\n",
              "       [791.17],\n",
              "       [756.54],\n",
              "       [755.6 ],\n",
              "       [746.97],\n",
              "       [755.2 ],\n",
              "       [766.92],\n",
              "       [771.37],\n",
              "       [762.61],\n",
              "       [772.63],\n",
              "       [767.73],\n",
              "       [764.26],\n",
              "       [760.  ],\n",
              "       [771.53],\n",
              "       [770.07],\n",
              "       [757.44],\n",
              "       [744.59],\n",
              "       [757.71],\n",
              "       [764.73],\n",
              "       [761.  ],\n",
              "       [772.48],\n",
              "       [780.  ],\n",
              "       [785.04],\n",
              "       [793.9 ],\n",
              "       [797.4 ],\n",
              "       [797.34],\n",
              "       [800.4 ],\n",
              "       [790.22],\n",
              "       [796.76],\n",
              "       [795.84],\n",
              "       [792.36],\n",
              "       [790.9 ],\n",
              "       [790.68],\n",
              "       [793.7 ],\n",
              "       [783.33],\n",
              "       [782.75],\n",
              "       [778.81],\n",
              "       [788.36],\n",
              "       [786.08],\n",
              "       [795.26],\n",
              "       [806.4 ],\n",
              "       [807.86],\n",
              "       [805.  ],\n",
              "       [807.14],\n",
              "       [807.48],\n",
              "       [807.08],\n",
              "       [805.81],\n",
              "       [805.12],\n",
              "       [806.91],\n",
              "       [807.25],\n",
              "       [822.3 ],\n",
              "       [829.62],\n",
              "       [837.81],\n",
              "       [834.71],\n",
              "       [814.66],\n",
              "       [796.86]])"
            ]
          },
          "metadata": {
            "tags": []
          },
          "execution_count": 68
        }
      ]
    },
    {
      "cell_type": "code",
      "metadata": {
        "id": "t5f2tep4u2aO",
        "colab_type": "code",
        "colab": {}
      },
      "source": [
        "inputs = sc.transform(inputs)\n",
        "X_test = []\n",
        "for i in range(60, 80):\n",
        "    X_test.append(inputs[i-60:i, 0])\n",
        "X_test = np.array(X_test)\n",
        "X_test = np.reshape(X_test, (X_test.shape[0], X_test.shape[1], 1))\n",
        "predicted_stock_price = regressor.predict(X_test)\n",
        "predicted_stock_price = sc.inverse_transform(predicted_stock_price)"
      ],
      "execution_count": 0,
      "outputs": []
    },
    {
      "cell_type": "code",
      "metadata": {
        "scrolled": false,
        "id": "P022dqxJu2aS",
        "colab_type": "code",
        "outputId": "748e8e4a-e516-46ae-9ef5-ce936b33bc1a",
        "colab": {
          "base_uri": "https://localhost:8080/",
          "height": 295
        }
      },
      "source": [
        "# Visualising the results\n",
        "plt.plot(real_stock_price, color = 'red', label = 'Real Google Stock Price')\n",
        "plt.plot(predicted_stock_price, color = 'blue', label = 'Predicted Google Stock Price')\n",
        "plt.title('Google Stock Price Prediction')\n",
        "plt.xlabel('Time')\n",
        "plt.ylabel('Google Stock Price')\n",
        "plt.legend()\n",
        "plt.show()"
      ],
      "execution_count": 0,
      "outputs": [
        {
          "output_type": "display_data",
          "data": {
            "image/png": "[encoded data removed]",
            "text/plain": [
              "<Figure size 432x288 with 1 Axes>"
            ]
          },
          "metadata": {
            "tags": []
          }
        }
      ]
    },
    {
      "cell_type": "code",
      "metadata": {
        "id": "QVv8ruwDBGbl",
        "colab_type": "code",
        "colab": {}
      },
      "source": [
        "stop here"
      ],
      "execution_count": 0,
      "outputs": []
    },
    {
      "cell_type": "code",
      "metadata": {
        "id": "NGfbz1hvu2aV",
        "colab_type": "code",
        "colab": {}
      },
      "source": [
        "#!pip3 install ann_visualizer"
      ],
      "execution_count": 0,
      "outputs": []
    },
    {
      "cell_type": "code",
      "metadata": {
        "id": "rSpn0aU1u2ab",
        "colab_type": "code",
        "colab": {}
      },
      "source": [
        "#!pip3 install graphviz"
      ],
      "execution_count": 0,
      "outputs": []
    },
    {
      "cell_type": "code",
      "metadata": {
        "id": "SU7D4sq0u2af",
        "colab_type": "code",
        "colab": {}
      },
      "source": [
        "#!conda install -c conda-forge ann_visualizer"
      ],
      "execution_count": 0,
      "outputs": []
    },
    {
      "cell_type": "markdown",
      "metadata": {
        "collapsed": true,
        "id": "M0VNMgE8u2ai",
        "colab_type": "text"
      },
      "source": [
        "from ann_visualizer.visualize import ann_viz\n",
        "ann_viz(regressor, title=\"My first neural network\")"
      ]
    },
    {
      "cell_type": "markdown",
      "metadata": {
        "id": "08nEA38pu2ak",
        "colab_type": "text"
      },
      "source": [
        "import dill\n",
        "dill.dump_session('notebook_env.db')"
      ]
    },
    {
      "cell_type": "code",
      "metadata": {
        "id": "UVzW-Um0u2al",
        "colab_type": "code",
        "colab": {}
      },
      "source": [
        ""
      ],
      "execution_count": 0,
      "outputs": []
    },
    {
      "cell_type": "code",
      "metadata": {
        "id": "vLpH1hqpu2an",
        "colab_type": "code",
        "outputId": "4982afca-f2bf-4c50-9e4d-c4c2ee949731",
        "colab": {
          "base_uri": "https://localhost:8080/",
          "height": 34
        }
      },
      "source": [
        "filename = '/content/drive/My Drive/Colab Notebooks/new_model.sav'\n",
        "dump(regressor,filename)"
      ],
      "execution_count": 0,
      "outputs": [
        {
          "output_type": "execute_result",
          "data": {
            "text/plain": [
              "['/content/drive/My Drive/Colab Notebooks/new_model.sav']"
            ]
          },
          "metadata": {
            "tags": []
          },
          "execution_count": 71
        }
      ]
    },
    {
      "cell_type": "code",
      "metadata": {
        "id": "2aW698Iau2aq",
        "colab_type": "code",
        "colab": {}
      },
      "source": [
        "# load the model from disk\n",
        "loaded_model = load(filename)"
      ],
      "execution_count": 0,
      "outputs": []
    },
    {
      "cell_type": "code",
      "metadata": {
        "id": "Kh5xsowxu2at",
        "colab_type": "code",
        "outputId": "293f7f92-5d8e-4315-fe91-0657f7e26d38",
        "colab": {
          "base_uri": "https://localhost:8080/",
          "height": 34
        }
      },
      "source": [
        "print(loaded_model)"
      ],
      "execution_count": 0,
      "outputs": [
        {
          "output_type": "stream",
          "text": [
            "<keras.engine.sequential.Sequential object at 0x7fd6bae83320>\n"
          ],
          "name": "stdout"
        }
      ]
    },
    {
      "cell_type": "code",
      "metadata": {
        "id": "4K0UetCCu2ax",
        "colab_type": "code",
        "colab": {}
      },
      "source": [
        "predicted_stock_price_loaded = loaded_model.predict(X_test)\n",
        "predicted_stock_price_loaded = sc.inverse_transform(predicted_stock_price_loaded)"
      ],
      "execution_count": 0,
      "outputs": []
    },
    {
      "cell_type": "markdown",
      "metadata": {
        "id": "e-_ekFtCA0qq",
        "colab_type": "text"
      },
      "source": [
        "'TPU  Stock Price Prediction'"
      ]
    },
    {
      "cell_type": "code",
      "metadata": {
        "id": "fpqPg2E7u2a0",
        "colab_type": "code",
        "outputId": "79d965f8-6c9a-4714-9e11-23d21368554f",
        "colab": {
          "base_uri": "https://localhost:8080/",
          "height": 295
        }
      },
      "source": [
        "# Visualising the results\n",
        "plt.plot(real_stock_price, color = 'red', label = 'Real Google Stock Price')\n",
        "plt.plot(predicted_stock_price_loaded, color = 'blue', label = 'Predicted Google Stock Price')\n",
        "plt.title('TPU  Stock Price Prediction')\n",
        "plt.xlabel('Time')\n",
        "plt.ylabel('Google Stock Price')\n",
        "plt.legend()\n",
        "plt.show()"
      ],
      "execution_count": 0,
      "outputs": [
        {
          "output_type": "display_data",
          "data": {
            "image/png": "[encoded data removed]",
            "text/plain": [
              "<Figure size 432x288 with 1 Axes>"
            ]
          },
          "metadata": {
            "tags": []
          }
        }
      ]
    },
    {
      "cell_type": "code",
      "metadata": {
        "id": "-ZP67APmu2a2",
        "colab_type": "code",
        "outputId": "a4014461-1cbe-4aab-8022-299229b6a6d0",
        "colab": {
          "base_uri": "https://localhost:8080/",
          "height": 106
        }
      },
      "source": [
        "%who"
      ],
      "execution_count": 0,
      "outputs": [
        {
          "output_type": "stream",
          "text": [
            "Dense\t Dropout\t LSTM\t MinMaxScaler\t Sequential\t X_test\t X_train\t dataset_test\t dataset_total\t \n",
            "dataset_train\t drive\t dump\t filename\t i\t inputs\t load\t loaded_model\t np\t \n",
            "pd\t plt\t predicted_stock_price\t predicted_stock_price_loaded\t real_stock_price\t regressor\t sc\t training_set\t training_set_scaled\t \n",
            "y_train\t \n"
          ],
          "name": "stdout"
        }
      ]
    },
    {
      "cell_type": "code",
      "metadata": {
        "id": "H4oDM7Ko_YjT",
        "colab_type": "code",
        "colab": {}
      },
      "source": [
        ""
      ],
      "execution_count": 0,
      "outputs": []
    }
  ]
}