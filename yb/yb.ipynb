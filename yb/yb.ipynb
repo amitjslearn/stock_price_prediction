{
  "nbformat": 4,
  "nbformat_minor": 0,
  "metadata": {
    "kernelspec": {
      "name": "python3",
      "display_name": "Python 3"
    },
    "language_info": {
      "codemirror_mode": {
        "name": "ipython",
        "version": 3
      },
      "file_extension": ".py",
      "mimetype": "text/x-python",
      "name": "python",
      "nbconvert_exporter": "python",
      "pygments_lexer": "ipython3",
      "version": "3.7.3"
    },
    "varInspector": {
      "cols": {
        "lenName": 16,
        "lenType": 16,
        "lenVar": 40
      },
      "kernels_config": {
        "python": {
          "delete_cmd_postfix": "",
          "delete_cmd_prefix": "del ",
          "library": "var_list.py",
          "varRefreshCmd": "print(var_dic_list())"
        },
        "r": {
          "delete_cmd_postfix": ") ",
          "delete_cmd_prefix": "rm(",
          "library": "var_list.r",
          "varRefreshCmd": "cat(var_dic_list()) "
        }
      },
      "oldHeight": 281.85,
      "position": {
        "height": "303.85px",
        "left": "620px",
        "right": "20px",
        "top": "123px",
        "width": "595px"
      },
      "types_to_exclude": [
        "module",
        "function",
        "builtin_function_or_method",
        "instance",
        "_Feature"
      ],
      "varInspector_section_display": "block",
      "window_display": false
    },
    "colab": {
      "name": "yb.ipynb",
      "provenance": [],
      "collapsed_sections": [],
      "include_colab_link": true
    },
    "accelerator": "TPU"
  },
  "cells": [
    {
      "cell_type": "markdown",
      "metadata": {
        "id": "view-in-github",
        "colab_type": "text"
      },
      "source": [
        "<a href=\"https://colab.research.google.com/github/amitjslearn/stock_price_prediction/blob/master/yb/yb.ipynb\" target=\"_parent\"><img src=\"https://colab.research.google.com/assets/colab-badge.svg\" alt=\"Open In Colab\"/></a>"
      ]
    },
    {
      "cell_type": "code",
      "metadata": {
        "id": "6GLR5niJu2Xm",
        "colab_type": "code",
        "colab": {}
      },
      "source": [
        ""
      ],
      "execution_count": 0,
      "outputs": []
    },
    {
      "cell_type": "code",
      "metadata": {
        "id": "Otyj59S0vmMp",
        "colab_type": "code",
        "outputId": "204c0dc0-b11a-487d-8dcf-4cdbc6bb2c0f",
        "colab": {
          "base_uri": "https://localhost:8080/",
          "height": 34
        }
      },
      "source": [
        "from google.colab import drive\n",
        "drive.mount('/content/drive', force_remount=False)"
      ],
      "execution_count": 55,
      "outputs": [
        {
          "output_type": "stream",
          "text": [
            "Drive already mounted at /content/drive; to attempt to forcibly remount, call drive.mount(\"/content/drive\", force_remount=True).\n"
          ],
          "name": "stdout"
        }
      ]
    },
    {
      "cell_type": "code",
      "metadata": {
        "id": "tR-mNht1u2X2",
        "colab_type": "code",
        "colab": {}
      },
      "source": [
        "# Recurrent Neural Network\n",
        "\n",
        "# Part 1 - Data Preprocessing\n",
        "\n",
        "# Importing the libraries\n",
        "import sklearn\n",
        "import numpy as np\n",
        "import matplotlib.pyplot as plt\n",
        "import pandas as pd"
      ],
      "execution_count": 0,
      "outputs": []
    },
    {
      "cell_type": "code",
      "metadata": {
        "id": "9HQqV6D3u2YH",
        "colab_type": "code",
        "colab": {}
      },
      "source": [
        "from sklearn.externals.joblib import dump\n",
        "from sklearn.externals.joblib import load\n"
      ],
      "execution_count": 0,
      "outputs": []
    },
    {
      "cell_type": "code",
      "metadata": {
        "id": "1ufN4RB-u2YO",
        "colab_type": "code",
        "colab": {}
      },
      "source": [
        "# Importing the training set\n",
        "dataset = pd.read_csv('/content/drive/My Drive/Colab Notebooks/YESBANK.BO(1).csv'); #dataset"
      ],
      "execution_count": 0,
      "outputs": []
    },
    {
      "cell_type": "code",
      "metadata": {
        "id": "BHhYHYP0hdx4",
        "colab_type": "code",
        "outputId": "586977a6-602b-4633-9c36-a4b51aa04e47",
        "colab": {
          "base_uri": "https://localhost:8080/",
          "height": 34
        }
      },
      "source": [
        "dataset.shape"
      ],
      "execution_count": 59,
      "outputs": [
        {
          "output_type": "execute_result",
          "data": {
            "text/plain": [
              "(2220, 7)"
            ]
          },
          "metadata": {
            "tags": []
          },
          "execution_count": 59
        }
      ]
    },
    {
      "cell_type": "code",
      "metadata": {
        "id": "jt4cxCwHxYNK",
        "colab_type": "code",
        "outputId": "94c32f33-9a6f-4d79-d373-32bc66fa8759",
        "colab": {
          "base_uri": "https://localhost:8080/",
          "height": 34
        }
      },
      "source": [
        "dataset.isnull().values.any()"
      ],
      "execution_count": 60,
      "outputs": [
        {
          "output_type": "execute_result",
          "data": {
            "text/plain": [
              "True"
            ]
          },
          "metadata": {
            "tags": []
          },
          "execution_count": 60
        }
      ]
    },
    {
      "cell_type": "code",
      "metadata": {
        "id": "xxZCNtHSxhaZ",
        "colab_type": "code",
        "outputId": "890f8334-e92e-4125-e012-b1758fe41d8d",
        "colab": {
          "base_uri": "https://localhost:8080/",
          "height": 156
        }
      },
      "source": [
        " dataset.isnull().sum()"
      ],
      "execution_count": 61,
      "outputs": [
        {
          "output_type": "execute_result",
          "data": {
            "text/plain": [
              "Date         0\n",
              "Open         6\n",
              "High         6\n",
              "Low          6\n",
              "Close        6\n",
              "Adj Close    6\n",
              "Volume       6\n",
              "dtype: int64"
            ]
          },
          "metadata": {
            "tags": []
          },
          "execution_count": 61
        }
      ]
    },
    {
      "cell_type": "code",
      "metadata": {
        "id": "Yi-7Gb3nKk92",
        "colab_type": "code",
        "colab": {}
      },
      "source": [
        "dataset_ = dataset.dropna(how='any',axis=0) ; #dataset_"
      ],
      "execution_count": 0,
      "outputs": []
    },
    {
      "cell_type": "code",
      "metadata": {
        "id": "0JziRACHLfv0",
        "colab_type": "code",
        "colab": {
          "base_uri": "https://localhost:8080/",
          "height": 156
        },
        "outputId": "41399f27-050c-40c6-bd45-eb6f9e414d3b"
      },
      "source": [
        " dataset_.isnull().sum()"
      ],
      "execution_count": 63,
      "outputs": [
        {
          "output_type": "execute_result",
          "data": {
            "text/plain": [
              "Date         0\n",
              "Open         0\n",
              "High         0\n",
              "Low          0\n",
              "Close        0\n",
              "Adj Close    0\n",
              "Volume       0\n",
              "dtype: int64"
            ]
          },
          "metadata": {
            "tags": []
          },
          "execution_count": 63
        }
      ]
    },
    {
      "cell_type": "code",
      "metadata": {
        "id": "Y4bYUXZULlwF",
        "colab_type": "code",
        "colab": {}
      },
      "source": [
        "dataset = dataset_ "
      ],
      "execution_count": 0,
      "outputs": []
    },
    {
      "cell_type": "code",
      "metadata": {
        "id": "hi9j8eN8kauX",
        "colab_type": "code",
        "outputId": "571a2e25-fe07-4e80-f089-4b99213cc35a",
        "colab": {
          "base_uri": "https://localhost:8080/",
          "height": 52
        }
      },
      "source": [
        "from sklearn.model_selection import train_test_split\n",
        "train,test=train_test_split(dataset,test_size=0.2)\n",
        "print(train.shape)\n",
        "print(test.shape)"
      ],
      "execution_count": 65,
      "outputs": [
        {
          "output_type": "stream",
          "text": [
            "(1771, 7)\n",
            "(443, 7)\n"
          ],
          "name": "stdout"
        }
      ]
    },
    {
      "cell_type": "code",
      "metadata": {
        "id": "JedMe805u2YV",
        "colab_type": "code",
        "outputId": "f909e311-b013-43cc-c7e7-71e1a2f9cb8b",
        "colab": {
          "base_uri": "https://localhost:8080/",
          "height": 34
        }
      },
      "source": [
        "training_set = train.iloc[:, 1:2].values; training_set.shape"
      ],
      "execution_count": 66,
      "outputs": [
        {
          "output_type": "execute_result",
          "data": {
            "text/plain": [
              "(1771, 1)"
            ]
          },
          "metadata": {
            "tags": []
          },
          "execution_count": 66
        }
      ]
    },
    {
      "cell_type": "code",
      "metadata": {
        "id": "RTwA487Fu2Yb",
        "colab_type": "code",
        "outputId": "11352d84-e37f-4fed-f700-aeb5582fa97e",
        "colab": {
          "base_uri": "https://localhost:8080/",
          "height": 34
        }
      },
      "source": [
        "# Feature Scaling\n",
        "from sklearn.preprocessing import MinMaxScaler\n",
        "sc = MinMaxScaler(feature_range = (0, 1)); sc"
      ],
      "execution_count": 67,
      "outputs": [
        {
          "output_type": "execute_result",
          "data": {
            "text/plain": [
              "MinMaxScaler(copy=True, feature_range=(0, 1))"
            ]
          },
          "metadata": {
            "tags": []
          },
          "execution_count": 67
        }
      ]
    },
    {
      "cell_type": "code",
      "metadata": {
        "id": "WSL0wbPNu2Yg",
        "colab_type": "code",
        "outputId": "c14a5861-97ee-45c6-d706-8fdc1a391be4",
        "colab": {
          "base_uri": "https://localhost:8080/",
          "height": 34
        }
      },
      "source": [
        "training_set_scaled = sc.fit_transform(training_set);training_set_scaled.shape"
      ],
      "execution_count": 68,
      "outputs": [
        {
          "output_type": "execute_result",
          "data": {
            "text/plain": [
              "(1771, 1)"
            ]
          },
          "metadata": {
            "tags": []
          },
          "execution_count": 68
        }
      ]
    },
    {
      "cell_type": "code",
      "metadata": {
        "id": "zt_gHvjbu2Ym",
        "colab_type": "code",
        "colab": {}
      },
      "source": [
        "# Creating a data structure with 60 timesteps and 1 output\n",
        "X_train = []\n",
        "y_train = []\n",
        "for i in range(60, train.shape[0]):\n",
        "    X_train.append(training_set_scaled[i-60:i, 0])\n",
        "    y_train.append(training_set_scaled[i, 0])\n",
        "X_train, y_train = np.array(X_train), np.array(y_train)"
      ],
      "execution_count": 0,
      "outputs": []
    },
    {
      "cell_type": "code",
      "metadata": {
        "scrolled": true,
        "id": "bOv3LCZvu2Yr",
        "colab_type": "code",
        "outputId": "10b41bc9-0339-4b49-dcd1-80a5d20b0063",
        "colab": {
          "base_uri": "https://localhost:8080/",
          "height": 34
        }
      },
      "source": [
        "X_train.shape"
      ],
      "execution_count": 70,
      "outputs": [
        {
          "output_type": "execute_result",
          "data": {
            "text/plain": [
              "(1711, 60)"
            ]
          },
          "metadata": {
            "tags": []
          },
          "execution_count": 70
        }
      ]
    },
    {
      "cell_type": "code",
      "metadata": {
        "id": "hJdbGpHDu2Yy",
        "colab_type": "code",
        "outputId": "94888536-67aa-4fa3-dc62-a3e7d016cd52",
        "colab": {
          "base_uri": "https://localhost:8080/",
          "height": 34
        }
      },
      "source": [
        "y_train.shape"
      ],
      "execution_count": 71,
      "outputs": [
        {
          "output_type": "execute_result",
          "data": {
            "text/plain": [
              "(1711,)"
            ]
          },
          "metadata": {
            "tags": []
          },
          "execution_count": 71
        }
      ]
    },
    {
      "cell_type": "code",
      "metadata": {
        "id": "JtGiuFESu2Y5",
        "colab_type": "code",
        "outputId": "d0ebd30a-4ee7-443c-ddc5-8b5e6635b4da",
        "colab": {
          "base_uri": "https://localhost:8080/",
          "height": 243
        }
      },
      "source": [
        "X_train"
      ],
      "execution_count": 72,
      "outputs": [
        {
          "output_type": "execute_result",
          "data": {
            "text/plain": [
              "array([[0.56350114, 0.07723112, 0.28947369, ..., 0.56121281, 0.048627  ,\n",
              "        0.15646454],\n",
              "       [0.07723112, 0.28947369, 0.12828947, ..., 0.048627  , 0.15646454,\n",
              "        0.17677346],\n",
              "       [0.28947369, 0.12828947, 0.89359265, ..., 0.15646454, 0.17677346,\n",
              "        0.12528605],\n",
              "       ...,\n",
              "       [0.25354692, 0.51327228, 0.29184783, ..., 0.8619565 , 0.28232266,\n",
              "        0.58066362],\n",
              "       [0.51327228, 0.29184783, 0.50457664, ..., 0.28232266, 0.58066362,\n",
              "        0.0465103 ],\n",
              "       [0.29184783, 0.50457664, 0.02488559, ..., 0.58066362, 0.0465103 ,\n",
              "        0.3627002 ]])"
            ]
          },
          "metadata": {
            "tags": []
          },
          "execution_count": 72
        }
      ]
    },
    {
      "cell_type": "code",
      "metadata": {
        "id": "mQdwXbodu2Y_",
        "colab_type": "code",
        "colab": {}
      },
      "source": [
        ""
      ],
      "execution_count": 0,
      "outputs": []
    },
    {
      "cell_type": "code",
      "metadata": {
        "id": "ooreNSXWu2ZN",
        "colab_type": "code",
        "colab": {}
      },
      "source": [
        "# Reshaping\n",
        "X_train = np.reshape(X_train, (X_train.shape[0], X_train.shape[1], 1))"
      ],
      "execution_count": 0,
      "outputs": []
    },
    {
      "cell_type": "code",
      "metadata": {
        "id": "VxZFkoCNu2ZR",
        "colab_type": "code",
        "colab": {}
      },
      "source": [
        "#X_train"
      ],
      "execution_count": 0,
      "outputs": []
    },
    {
      "cell_type": "code",
      "metadata": {
        "id": "5341kyaDu2ZW",
        "colab_type": "code",
        "colab": {}
      },
      "source": [
        "# Part 2 - Building the RNN\n",
        "\n",
        "# Importing the Keras libraries and packages\n",
        "from keras.models import Sequential\n",
        "from keras.layers import Dense\n",
        "from keras.layers import LSTM\n",
        "from keras.layers import Dropout"
      ],
      "execution_count": 0,
      "outputs": []
    },
    {
      "cell_type": "code",
      "metadata": {
        "id": "7HGoN_W0u2Zb",
        "colab_type": "code",
        "colab": {}
      },
      "source": [
        "#erroe"
      ],
      "execution_count": 0,
      "outputs": []
    },
    {
      "cell_type": "code",
      "metadata": {
        "id": "aJl4yPQ7u2Zi",
        "colab_type": "code",
        "colab": {}
      },
      "source": [
        "# Initialising the RNN\n",
        "regressor = Sequential()"
      ],
      "execution_count": 0,
      "outputs": []
    },
    {
      "cell_type": "code",
      "metadata": {
        "id": "2M_fordVu2Zm",
        "colab_type": "code",
        "outputId": "b2665afb-466a-4262-947e-2c89581c27bb",
        "colab": {
          "base_uri": "https://localhost:8080/",
          "height": 34
        }
      },
      "source": [
        "regressor"
      ],
      "execution_count": 24,
      "outputs": [
        {
          "output_type": "execute_result",
          "data": {
            "text/plain": [
              "<keras.engine.sequential.Sequential at 0x7fab8fd5b9e8>"
            ]
          },
          "metadata": {
            "tags": []
          },
          "execution_count": 24
        }
      ]
    },
    {
      "cell_type": "code",
      "metadata": {
        "scrolled": true,
        "id": "Rsk2OF2Pu2Zt",
        "colab_type": "code",
        "colab": {}
      },
      "source": [
        "#X_train[1]"
      ],
      "execution_count": 0,
      "outputs": []
    },
    {
      "cell_type": "code",
      "metadata": {
        "id": "tqX97lKEu2Zy",
        "colab_type": "code",
        "colab": {}
      },
      "source": [
        "# Adding the first LSTM layer and some Dropout regularisation\n",
        "regressor.add(LSTM(units = 50, return_sequences = True, input_shape = (X_train.shape[1], 1)))\n",
        "regressor.add(Dropout(0.2))\n",
        "\n",
        "# Adding a second LSTM layer and some Dropout regularisation\n",
        "regressor.add(LSTM(units = 50, return_sequences = True))\n",
        "regressor.add(Dropout(0.2))\n",
        "\n",
        "# Adding a third LSTM layer and some Dropout regularisation\n",
        "regressor.add(LSTM(units = 50, return_sequences = True))\n",
        "regressor.add(Dropout(0.2))\n",
        "\n",
        "# Adding a fourth LSTM layer and some Dropout regularisation\n",
        "regressor.add(LSTM(units = 50))\n",
        "regressor.add(Dropout(0.2))\n",
        "\n",
        "# Adding the output layer\n",
        "regressor.add(Dense(units = 1))\n",
        "\n",
        "# Compiling the RNN\n",
        "regressor.compile(optimizer = 'adam', loss = 'mean_squared_error')"
      ],
      "execution_count": 0,
      "outputs": []
    },
    {
      "cell_type": "code",
      "metadata": {
        "id": "IQtxm2AYu2Z4",
        "colab_type": "code",
        "colab": {}
      },
      "source": [
        "#error"
      ],
      "execution_count": 0,
      "outputs": []
    },
    {
      "cell_type": "code",
      "metadata": {
        "scrolled": false,
        "id": "Sip5Kz-8u2Z9",
        "colab_type": "code",
        "outputId": "ed4116a2-2142-4395-a02d-a19600871e40",
        "colab": {
          "base_uri": "https://localhost:8080/",
          "height": 469
        }
      },
      "source": [
        "regressor.summary()"
      ],
      "execution_count": 77,
      "outputs": [
        {
          "output_type": "stream",
          "text": [
            "Model: \"sequential_2\"\n",
            "_________________________________________________________________\n",
            "Layer (type)                 Output Shape              Param #   \n",
            "=================================================================\n",
            "lstm_5 (LSTM)                (None, 60, 50)            10400     \n",
            "_________________________________________________________________\n",
            "dropout_5 (Dropout)          (None, 60, 50)            0         \n",
            "_________________________________________________________________\n",
            "lstm_6 (LSTM)                (None, 60, 50)            20200     \n",
            "_________________________________________________________________\n",
            "dropout_6 (Dropout)          (None, 60, 50)            0         \n",
            "_________________________________________________________________\n",
            "lstm_7 (LSTM)                (None, 60, 50)            20200     \n",
            "_________________________________________________________________\n",
            "dropout_7 (Dropout)          (None, 60, 50)            0         \n",
            "_________________________________________________________________\n",
            "lstm_8 (LSTM)                (None, 50)                20200     \n",
            "_________________________________________________________________\n",
            "dropout_8 (Dropout)          (None, 50)                0         \n",
            "_________________________________________________________________\n",
            "dense_2 (Dense)              (None, 1)                 51        \n",
            "=================================================================\n",
            "Total params: 71,051\n",
            "Trainable params: 71,051\n",
            "Non-trainable params: 0\n",
            "_________________________________________________________________\n"
          ],
          "name": "stdout"
        }
      ]
    },
    {
      "cell_type": "code",
      "metadata": {
        "scrolled": true,
        "id": "wsf_6UI3u2aA",
        "colab_type": "code",
        "outputId": "a8ec732b-dd93-447f-b727-dca605736656",
        "colab": {
          "base_uri": "https://localhost:8080/",
          "height": 1000
        }
      },
      "source": [
        "# Fitting the RNN to the Training set6\n",
        "regressor.fit(X_train, y_train, epochs = 100, batch_size = 32)"
      ],
      "execution_count": 78,
      "outputs": [
        {
          "output_type": "stream",
          "text": [
            "Epoch 1/100\n",
            "1711/1711 [==============================] - 13s 7ms/step - loss: 0.0964\n",
            "Epoch 2/100\n",
            "1711/1711 [==============================] - 9s 5ms/step - loss: 0.0837\n",
            "Epoch 3/100\n",
            "1711/1711 [==============================] - 9s 5ms/step - loss: 0.0835\n",
            "Epoch 4/100\n",
            "1711/1711 [==============================] - 9s 5ms/step - loss: 0.0825\n",
            "Epoch 5/100\n",
            "1711/1711 [==============================] - 9s 5ms/step - loss: 0.0823\n",
            "Epoch 6/100\n",
            "1711/1711 [==============================] - 9s 5ms/step - loss: 0.0831\n",
            "Epoch 7/100\n",
            "1711/1711 [==============================] - 9s 5ms/step - loss: 0.0817\n",
            "Epoch 8/100\n",
            "1711/1711 [==============================] - 10s 6ms/step - loss: 0.0819\n",
            "Epoch 9/100\n",
            "1711/1711 [==============================] - 9s 5ms/step - loss: 0.0817\n",
            "Epoch 10/100\n",
            "1711/1711 [==============================] - 9s 5ms/step - loss: 0.0817\n",
            "Epoch 11/100\n",
            "1711/1711 [==============================] - 9s 5ms/step - loss: 0.0816\n",
            "Epoch 12/100\n",
            "1711/1711 [==============================] - 9s 5ms/step - loss: 0.0819\n",
            "Epoch 13/100\n",
            "1711/1711 [==============================] - 9s 5ms/step - loss: 0.0815\n",
            "Epoch 14/100\n",
            "1711/1711 [==============================] - 9s 5ms/step - loss: 0.0816\n",
            "Epoch 15/100\n",
            "1711/1711 [==============================] - 9s 5ms/step - loss: 0.0816\n",
            "Epoch 16/100\n",
            "1711/1711 [==============================] - 9s 5ms/step - loss: 0.0816\n",
            "Epoch 17/100\n",
            "1711/1711 [==============================] - 9s 5ms/step - loss: 0.0816\n",
            "Epoch 18/100\n",
            "1711/1711 [==============================] - 9s 5ms/step - loss: 0.0815\n",
            "Epoch 19/100\n",
            "1711/1711 [==============================] - 9s 5ms/step - loss: 0.0822\n",
            "Epoch 20/100\n",
            "1711/1711 [==============================] - 9s 5ms/step - loss: 0.0809\n",
            "Epoch 21/100\n",
            "1711/1711 [==============================] - 9s 5ms/step - loss: 0.0820\n",
            "Epoch 22/100\n",
            "1711/1711 [==============================] - 9s 5ms/step - loss: 0.0821\n",
            "Epoch 23/100\n",
            "1711/1711 [==============================] - 9s 5ms/step - loss: 0.0815\n",
            "Epoch 24/100\n",
            "1711/1711 [==============================] - 9s 5ms/step - loss: 0.0814\n",
            "Epoch 25/100\n",
            "1711/1711 [==============================] - 9s 5ms/step - loss: 0.0818\n",
            "Epoch 26/100\n",
            "1711/1711 [==============================] - 9s 5ms/step - loss: 0.0812\n",
            "Epoch 27/100\n",
            "1711/1711 [==============================] - 9s 5ms/step - loss: 0.0812\n",
            "Epoch 28/100\n",
            "1711/1711 [==============================] - 9s 5ms/step - loss: 0.0817\n",
            "Epoch 29/100\n",
            "1711/1711 [==============================] - 9s 5ms/step - loss: 0.0812\n",
            "Epoch 30/100\n",
            "1711/1711 [==============================] - 9s 5ms/step - loss: 0.0813\n",
            "Epoch 31/100\n",
            "1711/1711 [==============================] - 9s 5ms/step - loss: 0.0825\n",
            "Epoch 32/100\n",
            "1711/1711 [==============================] - 9s 5ms/step - loss: 0.0816\n",
            "Epoch 33/100\n",
            "1711/1711 [==============================] - 9s 5ms/step - loss: 0.0817\n",
            "Epoch 34/100\n",
            "1711/1711 [==============================] - 9s 5ms/step - loss: 0.0813\n",
            "Epoch 35/100\n",
            "1711/1711 [==============================] - 9s 5ms/step - loss: 0.0809\n",
            "Epoch 36/100\n",
            "1711/1711 [==============================] - 9s 5ms/step - loss: 0.0811\n",
            "Epoch 37/100\n",
            "1711/1711 [==============================] - 9s 5ms/step - loss: 0.0812\n",
            "Epoch 38/100\n",
            "1711/1711 [==============================] - 9s 5ms/step - loss: 0.0818\n",
            "Epoch 39/100\n",
            "1711/1711 [==============================] - 9s 5ms/step - loss: 0.0810\n",
            "Epoch 40/100\n",
            "1711/1711 [==============================] - 9s 5ms/step - loss: 0.0809\n",
            "Epoch 41/100\n",
            "1711/1711 [==============================] - 9s 5ms/step - loss: 0.0817\n",
            "Epoch 42/100\n",
            "1711/1711 [==============================] - 9s 6ms/step - loss: 0.0812\n",
            "Epoch 43/100\n",
            "1711/1711 [==============================] - 9s 5ms/step - loss: 0.0808\n",
            "Epoch 44/100\n",
            "1711/1711 [==============================] - 9s 5ms/step - loss: 0.0813\n",
            "Epoch 45/100\n",
            "1711/1711 [==============================] - 9s 5ms/step - loss: 0.0817\n",
            "Epoch 46/100\n",
            "1711/1711 [==============================] - 9s 5ms/step - loss: 0.0809\n",
            "Epoch 47/100\n",
            "1711/1711 [==============================] - 9s 5ms/step - loss: 0.0816\n",
            "Epoch 48/100\n",
            "1711/1711 [==============================] - 9s 5ms/step - loss: 0.0805\n",
            "Epoch 49/100\n",
            "1711/1711 [==============================] - 9s 5ms/step - loss: 0.0819\n",
            "Epoch 50/100\n",
            "1711/1711 [==============================] - 9s 5ms/step - loss: 0.0813\n",
            "Epoch 51/100\n",
            "1711/1711 [==============================] - 9s 5ms/step - loss: 0.0808\n",
            "Epoch 52/100\n",
            "1711/1711 [==============================] - 9s 5ms/step - loss: 0.0812\n",
            "Epoch 53/100\n",
            "1711/1711 [==============================] - 9s 5ms/step - loss: 0.0809\n",
            "Epoch 54/100\n",
            "1711/1711 [==============================] - 9s 5ms/step - loss: 0.0809\n",
            "Epoch 55/100\n",
            "1711/1711 [==============================] - 9s 5ms/step - loss: 0.0810\n",
            "Epoch 56/100\n",
            "1711/1711 [==============================] - 9s 5ms/step - loss: 0.0810\n",
            "Epoch 57/100\n",
            "1711/1711 [==============================] - 9s 5ms/step - loss: 0.0809\n",
            "Epoch 58/100\n",
            "1711/1711 [==============================] - 9s 5ms/step - loss: 0.0813\n",
            "Epoch 59/100\n",
            "1711/1711 [==============================] - 9s 5ms/step - loss: 0.0816\n",
            "Epoch 60/100\n",
            "1711/1711 [==============================] - 9s 5ms/step - loss: 0.0808\n",
            "Epoch 61/100\n",
            "1711/1711 [==============================] - 9s 5ms/step - loss: 0.0805\n",
            "Epoch 62/100\n",
            "1711/1711 [==============================] - 9s 5ms/step - loss: 0.0810\n",
            "Epoch 63/100\n",
            "1711/1711 [==============================] - 9s 5ms/step - loss: 0.0809\n",
            "Epoch 64/100\n",
            "1711/1711 [==============================] - 9s 5ms/step - loss: 0.0811\n",
            "Epoch 65/100\n",
            "1711/1711 [==============================] - 9s 5ms/step - loss: 0.0812\n",
            "Epoch 66/100\n",
            "1711/1711 [==============================] - 9s 5ms/step - loss: 0.0809\n",
            "Epoch 67/100\n",
            "1711/1711 [==============================] - 9s 5ms/step - loss: 0.0812\n",
            "Epoch 68/100\n",
            "1711/1711 [==============================] - 9s 5ms/step - loss: 0.0809\n",
            "Epoch 69/100\n",
            "1711/1711 [==============================] - 9s 5ms/step - loss: 0.0810\n",
            "Epoch 70/100\n",
            "1711/1711 [==============================] - 9s 5ms/step - loss: 0.0814\n",
            "Epoch 71/100\n",
            "1711/1711 [==============================] - 9s 5ms/step - loss: 0.0809\n",
            "Epoch 72/100\n",
            "1711/1711 [==============================] - 9s 5ms/step - loss: 0.0808\n",
            "Epoch 73/100\n",
            "1711/1711 [==============================] - 9s 5ms/step - loss: 0.0809\n",
            "Epoch 74/100\n",
            "1711/1711 [==============================] - 9s 5ms/step - loss: 0.0805\n",
            "Epoch 75/100\n",
            "1711/1711 [==============================] - 9s 5ms/step - loss: 0.0809\n",
            "Epoch 76/100\n",
            "1711/1711 [==============================] - 9s 5ms/step - loss: 0.0810\n",
            "Epoch 77/100\n",
            "1711/1711 [==============================] - 9s 5ms/step - loss: 0.0803\n",
            "Epoch 78/100\n",
            "1711/1711 [==============================] - 9s 5ms/step - loss: 0.0804\n",
            "Epoch 79/100\n",
            "1711/1711 [==============================] - 9s 5ms/step - loss: 0.0812\n",
            "Epoch 80/100\n",
            "1711/1711 [==============================] - 9s 5ms/step - loss: 0.0812\n",
            "Epoch 81/100\n",
            "1711/1711 [==============================] - 9s 5ms/step - loss: 0.0811\n",
            "Epoch 82/100\n",
            "1711/1711 [==============================] - 9s 5ms/step - loss: 0.0805\n",
            "Epoch 83/100\n",
            "1711/1711 [==============================] - 9s 5ms/step - loss: 0.0811\n",
            "Epoch 84/100\n",
            "1711/1711 [==============================] - 9s 5ms/step - loss: 0.0811\n",
            "Epoch 85/100\n",
            "1711/1711 [==============================] - 9s 5ms/step - loss: 0.0806\n",
            "Epoch 86/100\n",
            "1711/1711 [==============================] - 9s 5ms/step - loss: 0.0809\n",
            "Epoch 87/100\n",
            "1711/1711 [==============================] - 9s 5ms/step - loss: 0.0807\n",
            "Epoch 88/100\n",
            "1711/1711 [==============================] - 9s 5ms/step - loss: 0.0807\n",
            "Epoch 89/100\n",
            "1711/1711 [==============================] - 9s 5ms/step - loss: 0.0808\n",
            "Epoch 90/100\n",
            "1711/1711 [==============================] - 9s 5ms/step - loss: 0.0809\n",
            "Epoch 91/100\n",
            "1711/1711 [==============================] - 9s 5ms/step - loss: 0.0809\n",
            "Epoch 92/100\n",
            "1711/1711 [==============================] - 9s 5ms/step - loss: 0.0806\n",
            "Epoch 93/100\n",
            "1711/1711 [==============================] - 9s 5ms/step - loss: 0.0807\n",
            "Epoch 94/100\n",
            "1711/1711 [==============================] - 9s 5ms/step - loss: 0.0808\n",
            "Epoch 95/100\n",
            "1711/1711 [==============================] - 9s 5ms/step - loss: 0.0811\n",
            "Epoch 96/100\n",
            "1711/1711 [==============================] - 9s 5ms/step - loss: 0.0808\n",
            "Epoch 97/100\n",
            "1711/1711 [==============================] - 9s 5ms/step - loss: 0.0811\n",
            "Epoch 98/100\n",
            "1711/1711 [==============================] - 9s 5ms/step - loss: 0.0806\n",
            "Epoch 99/100\n",
            "1711/1711 [==============================] - 9s 5ms/step - loss: 0.0810\n",
            "Epoch 100/100\n",
            "1711/1711 [==============================] - 9s 5ms/step - loss: 0.0806\n"
          ],
          "name": "stdout"
        },
        {
          "output_type": "execute_result",
          "data": {
            "text/plain": [
              "<keras.callbacks.History at 0x7fab694e43c8>"
            ]
          },
          "metadata": {
            "tags": []
          },
          "execution_count": 78
        }
      ]
    },
    {
      "cell_type": "code",
      "metadata": {
        "id": "-ob8kWuFu2aF",
        "colab_type": "code",
        "colab": {}
      },
      "source": [
        "# Part 3 - Making the predictions and visualising the results\n",
        "\n",
        "# Getting the real stock price of 2017\n",
        "dataset_test = test\n",
        "dataset_train = train\n",
        "real_stock_price = dataset_test.iloc[:, 1:2].values\n",
        "\n",
        "# Getting the predicted stock price of 2017\n",
        "dataset_total = pd.concat((dataset_train['Open'], dataset_test['Open']), axis = 0)\n",
        "inputs = dataset_total[len(dataset_total) - len(dataset_test) - 60:].values"
      ],
      "execution_count": 0,
      "outputs": []
    },
    {
      "cell_type": "code",
      "metadata": {
        "id": "cV3Ud0aiu2aI",
        "colab_type": "code",
        "colab": {}
      },
      "source": [
        "inputs = inputs.reshape(-1,1); "
      ],
      "execution_count": 0,
      "outputs": []
    },
    {
      "cell_type": "code",
      "metadata": {
        "id": "t5f2tep4u2aO",
        "colab_type": "code",
        "colab": {}
      },
      "source": [
        "inputs = sc.transform(inputs)\n",
        "X_test = []\n",
        "for i in range(60, test.shape[0]):\n",
        "    X_test.append(inputs[i-60:i, 0])\n",
        "X_test = np.array(X_test)\n",
        "X_test = np.reshape(X_test, (X_test.shape[0], X_test.shape[1], 1))\n",
        "predicted_stock_price = regressor.predict(X_test)\n",
        "predicted_stock_price = sc.inverse_transform(predicted_stock_price)"
      ],
      "execution_count": 0,
      "outputs": []
    },
    {
      "cell_type": "code",
      "metadata": {
        "scrolled": false,
        "id": "P022dqxJu2aS",
        "colab_type": "code",
        "outputId": "11b75fc4-826f-4176-caf8-055961789524",
        "colab": {
          "base_uri": "https://localhost:8080/",
          "height": 295
        }
      },
      "source": [
        "# Visualising the results\n",
        "plt.plot(real_stock_price, color = 'red', label = 'Real Google Stock Price')\n",
        "plt.plot(predicted_stock_price, color = 'blue', label = 'Predicted Google Stock Price')\n",
        "plt.title('Google Stock Price Prediction')\n",
        "plt.xlabel('Time')\n",
        "plt.ylabel('Google Stock Price')\n",
        "plt.legend()\n",
        "plt.show()"
      ],
      "execution_count": 83,
      "outputs": [
        {
          "output_type": "display_data",
          "data": {
            "image/png": "[encoded data removed]",
            "text/plain": [
              "<Figure size 432x288 with 1 Axes>"
            ]
          },
          "metadata": {
            "tags": []
          }
        }
      ]
    },
    {
      "cell_type": "code",
      "metadata": {
        "id": "QVv8ruwDBGbl",
        "colab_type": "code",
        "colab": {}
      },
      "source": [
        "stop here"
      ],
      "execution_count": 0,
      "outputs": []
    },
    {
      "cell_type": "code",
      "metadata": {
        "id": "NGfbz1hvu2aV",
        "colab_type": "code",
        "colab": {}
      },
      "source": [
        "#!pip3 install ann_visualizer"
      ],
      "execution_count": 0,
      "outputs": []
    },
    {
      "cell_type": "code",
      "metadata": {
        "id": "rSpn0aU1u2ab",
        "colab_type": "code",
        "colab": {}
      },
      "source": [
        "#!pip3 install graphviz"
      ],
      "execution_count": 0,
      "outputs": []
    },
    {
      "cell_type": "code",
      "metadata": {
        "id": "SU7D4sq0u2af",
        "colab_type": "code",
        "colab": {}
      },
      "source": [
        "#!conda install -c conda-forge ann_visualizer"
      ],
      "execution_count": 0,
      "outputs": []
    },
    {
      "cell_type": "markdown",
      "metadata": {
        "collapsed": true,
        "id": "M0VNMgE8u2ai",
        "colab_type": "text"
      },
      "source": [
        "from ann_visualizer.visualize import ann_viz\n",
        "ann_viz(regressor, title=\"My first neural network\")"
      ]
    },
    {
      "cell_type": "markdown",
      "metadata": {
        "id": "08nEA38pu2ak",
        "colab_type": "text"
      },
      "source": [
        "import dill\n",
        "dill.dump_session('notebook_env.db')"
      ]
    },
    {
      "cell_type": "code",
      "metadata": {
        "id": "UVzW-Um0u2al",
        "colab_type": "code",
        "colab": {}
      },
      "source": [
        ""
      ],
      "execution_count": 0,
      "outputs": []
    },
    {
      "cell_type": "code",
      "metadata": {
        "id": "vLpH1hqpu2an",
        "colab_type": "code",
        "colab": {}
      },
      "source": [
        "filename = '/content/drive/My Drive/Colab Notebooks/new_model.sav'\n",
        "dump(regressor,filename)"
      ],
      "execution_count": 0,
      "outputs": []
    },
    {
      "cell_type": "code",
      "metadata": {
        "id": "2aW698Iau2aq",
        "colab_type": "code",
        "colab": {}
      },
      "source": [
        "# load the model from disk\n",
        "loaded_model = load(filename)"
      ],
      "execution_count": 0,
      "outputs": []
    },
    {
      "cell_type": "code",
      "metadata": {
        "id": "Kh5xsowxu2at",
        "colab_type": "code",
        "colab": {}
      },
      "source": [
        "print(loaded_model)"
      ],
      "execution_count": 0,
      "outputs": []
    },
    {
      "cell_type": "code",
      "metadata": {
        "id": "4K0UetCCu2ax",
        "colab_type": "code",
        "colab": {}
      },
      "source": [
        "predicted_stock_price_loaded = loaded_model.predict(X_test)\n",
        "predicted_stock_price_loaded = sc.inverse_transform(predicted_stock_price_loaded)"
      ],
      "execution_count": 0,
      "outputs": []
    },
    {
      "cell_type": "markdown",
      "metadata": {
        "id": "e-_ekFtCA0qq",
        "colab_type": "text"
      },
      "source": [
        "'TPU  Stock Price Prediction'"
      ]
    },
    {
      "cell_type": "code",
      "metadata": {
        "id": "fpqPg2E7u2a0",
        "colab_type": "code",
        "colab": {}
      },
      "source": [
        "# Visualising the results\n",
        "plt.plot(real_stock_price, color = 'red', label = 'Real Google Stock Price')\n",
        "plt.plot(predicted_stock_price_loaded, color = 'blue', label = 'Predicted Google Stock Price')\n",
        "plt.title('TPU  Stock Price Prediction')\n",
        "plt.xlabel('Time')\n",
        "plt.ylabel('Google Stock Price')\n",
        "plt.legend()\n",
        "plt.show()"
      ],
      "execution_count": 0,
      "outputs": []
    },
    {
      "cell_type": "code",
      "metadata": {
        "id": "-ZP67APmu2a2",
        "colab_type": "code",
        "colab": {}
      },
      "source": [
        "%who"
      ],
      "execution_count": 0,
      "outputs": []
    },
    {
      "cell_type": "code",
      "metadata": {
        "id": "H4oDM7Ko_YjT",
        "colab_type": "code",
        "colab": {}
      },
      "source": [
        ""
      ],
      "execution_count": 0,
      "outputs": []
    }
  ]
}