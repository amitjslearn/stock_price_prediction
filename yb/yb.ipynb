{
  "nbformat": 4,
  "nbformat_minor": 0,
  "metadata": {
    "kernelspec": {
      "name": "python3",
      "display_name": "Python 3"
    },
    "language_info": {
      "codemirror_mode": {
        "name": "ipython",
        "version": 3
      },
      "file_extension": ".py",
      "mimetype": "text/x-python",
      "name": "python",
      "nbconvert_exporter": "python",
      "pygments_lexer": "ipython3",
      "version": "3.7.3"
    },
    "varInspector": {
      "cols": {
        "lenName": 16,
        "lenType": 16,
        "lenVar": 40
      },
      "kernels_config": {
        "python": {
          "delete_cmd_postfix": "",
          "delete_cmd_prefix": "del ",
          "library": "var_list.py",
          "varRefreshCmd": "print(var_dic_list())"
        },
        "r": {
          "delete_cmd_postfix": ") ",
          "delete_cmd_prefix": "rm(",
          "library": "var_list.r",
          "varRefreshCmd": "cat(var_dic_list()) "
        }
      },
      "oldHeight": 281.85,
      "position": {
        "height": "303.85px",
        "left": "620px",
        "right": "20px",
        "top": "123px",
        "width": "595px"
      },
      "types_to_exclude": [
        "module",
        "function",
        "builtin_function_or_method",
        "instance",
        "_Feature"
      ],
      "varInspector_section_display": "block",
      "window_display": false
    },
    "colab": {
      "name": "yb.ipynb",
      "provenance": [],
      "collapsed_sections": [],
      "include_colab_link": true
    },
    "accelerator": "TPU"
  },
  "cells": [
    {
      "cell_type": "markdown",
      "metadata": {
        "id": "view-in-github",
        "colab_type": "text"
      },
      "source": [
        "<a href=\"https://colab.research.google.com/github/amitjslearn/stock_price_prediction/blob/master/yb/yb.ipynb\" target=\"_parent\"><img src=\"https://colab.research.google.com/assets/colab-badge.svg\" alt=\"Open In Colab\"/></a>"
      ]
    },
    {
      "cell_type": "code",
      "metadata": {
        "id": "6GLR5niJu2Xm",
        "colab_type": "code",
        "colab": {}
      },
      "source": [
        ""
      ],
      "execution_count": 0,
      "outputs": []
    },
    {
      "cell_type": "code",
      "metadata": {
        "id": "Otyj59S0vmMp",
        "colab_type": "code",
        "outputId": "366fe6bf-f7b7-41f7-b31f-5f75a3f65e7e",
        "colab": {
          "base_uri": "https://localhost:8080/",
          "height": 34
        }
      },
      "source": [
        "from google.colab import drive\n",
        "drive.mount('/content/drive', force_remount=False)"
      ],
      "execution_count": 71,
      "outputs": [
        {
          "output_type": "stream",
          "text": [
            "Drive already mounted at /content/drive; to attempt to forcibly remount, call drive.mount(\"/content/drive\", force_remount=True).\n"
          ],
          "name": "stdout"
        }
      ]
    },
    {
      "cell_type": "code",
      "metadata": {
        "id": "tR-mNht1u2X2",
        "colab_type": "code",
        "colab": {}
      },
      "source": [
        "# Recurrent Neural Network\n",
        "\n",
        "# Part 1 - Data Preprocessing\n",
        "\n",
        "# Importing the libraries\n",
        "import sklearn\n",
        "import numpy as np\n",
        "import matplotlib.pyplot as plt\n",
        "import pandas as pd"
      ],
      "execution_count": 0,
      "outputs": []
    },
    {
      "cell_type": "code",
      "metadata": {
        "id": "9HQqV6D3u2YH",
        "colab_type": "code",
        "colab": {}
      },
      "source": [
        "from sklearn.externals.joblib import dump\n",
        "from sklearn.externals.joblib import load\n"
      ],
      "execution_count": 0,
      "outputs": []
    },
    {
      "cell_type": "code",
      "metadata": {
        "id": "1ufN4RB-u2YO",
        "colab_type": "code",
        "colab": {}
      },
      "source": [
        "# Importing the training set\n",
        "dataset = pd.read_csv('/content/drive/My Drive/Colab Notebooks/YESBANK.BO(1).csv'); #dataset"
      ],
      "execution_count": 0,
      "outputs": []
    },
    {
      "cell_type": "code",
      "metadata": {
        "id": "BHhYHYP0hdx4",
        "colab_type": "code",
        "outputId": "3369c732-1750-4065-de53-bee5eaadf4f9",
        "colab": {
          "base_uri": "https://localhost:8080/",
          "height": 34
        }
      },
      "source": [
        "dataset.shape"
      ],
      "execution_count": 75,
      "outputs": [
        {
          "output_type": "execute_result",
          "data": {
            "text/plain": [
              "(2220, 7)"
            ]
          },
          "metadata": {
            "tags": []
          },
          "execution_count": 75
        }
      ]
    },
    {
      "cell_type": "code",
      "metadata": {
        "id": "jt4cxCwHxYNK",
        "colab_type": "code",
        "outputId": "cdc0a0a4-a198-4ede-c635-86771c5f7f59",
        "colab": {
          "base_uri": "https://localhost:8080/",
          "height": 34
        }
      },
      "source": [
        "dataset.isnull().values.any()"
      ],
      "execution_count": 76,
      "outputs": [
        {
          "output_type": "execute_result",
          "data": {
            "text/plain": [
              "True"
            ]
          },
          "metadata": {
            "tags": []
          },
          "execution_count": 76
        }
      ]
    },
    {
      "cell_type": "code",
      "metadata": {
        "id": "xxZCNtHSxhaZ",
        "colab_type": "code",
        "outputId": "ed6cb03c-c509-49a7-e35a-fe7d737aa735",
        "colab": {
          "base_uri": "https://localhost:8080/",
          "height": 153
        }
      },
      "source": [
        " dataset.isnull().sum()"
      ],
      "execution_count": 77,
      "outputs": [
        {
          "output_type": "execute_result",
          "data": {
            "text/plain": [
              "Date         0\n",
              "Open         6\n",
              "High         6\n",
              "Low          6\n",
              "Close        6\n",
              "Adj Close    6\n",
              "Volume       6\n",
              "dtype: int64"
            ]
          },
          "metadata": {
            "tags": []
          },
          "execution_count": 77
        }
      ]
    },
    {
      "cell_type": "code",
      "metadata": {
        "id": "Yi-7Gb3nKk92",
        "colab_type": "code",
        "colab": {}
      },
      "source": [
        "dataset_ = dataset.dropna(how='any',axis=0) ; #dataset_"
      ],
      "execution_count": 0,
      "outputs": []
    },
    {
      "cell_type": "code",
      "metadata": {
        "id": "0JziRACHLfv0",
        "colab_type": "code",
        "outputId": "5528e2cf-8369-4987-a8b5-b36396eee9b3",
        "colab": {
          "base_uri": "https://localhost:8080/",
          "height": 153
        }
      },
      "source": [
        " dataset_.isnull().sum()"
      ],
      "execution_count": 79,
      "outputs": [
        {
          "output_type": "execute_result",
          "data": {
            "text/plain": [
              "Date         0\n",
              "Open         0\n",
              "High         0\n",
              "Low          0\n",
              "Close        0\n",
              "Adj Close    0\n",
              "Volume       0\n",
              "dtype: int64"
            ]
          },
          "metadata": {
            "tags": []
          },
          "execution_count": 79
        }
      ]
    },
    {
      "cell_type": "code",
      "metadata": {
        "id": "Y4bYUXZULlwF",
        "colab_type": "code",
        "colab": {}
      },
      "source": [
        "dataset = dataset_ "
      ],
      "execution_count": 0,
      "outputs": []
    },
    {
      "cell_type": "code",
      "metadata": {
        "id": "hi9j8eN8kauX",
        "colab_type": "code",
        "outputId": "d9fc2b46-67bc-458c-8509-338a49485d4c",
        "colab": {
          "base_uri": "https://localhost:8080/",
          "height": 51
        }
      },
      "source": [
        "from sklearn.model_selection import train_test_split\n",
        "train,test=train_test_split(dataset,test_size=0.2)\n",
        "print(train.shape)\n",
        "print(test.shape)"
      ],
      "execution_count": 81,
      "outputs": [
        {
          "output_type": "stream",
          "text": [
            "(1771, 7)\n",
            "(443, 7)\n"
          ],
          "name": "stdout"
        }
      ]
    },
    {
      "cell_type": "code",
      "metadata": {
        "id": "JedMe805u2YV",
        "colab_type": "code",
        "outputId": "bb26ffbd-5dd7-4e6e-ef3a-322a089aecf2",
        "colab": {
          "base_uri": "https://localhost:8080/",
          "height": 34
        }
      },
      "source": [
        "training_set = train.iloc[:, 1:2].values; \n",
        "training_set.shape"
      ],
      "execution_count": 84,
      "outputs": [
        {
          "output_type": "execute_result",
          "data": {
            "text/plain": [
              "(1771, 1)"
            ]
          },
          "metadata": {
            "tags": []
          },
          "execution_count": 84
        }
      ]
    },
    {
      "cell_type": "code",
      "metadata": {
        "id": "RTwA487Fu2Yb",
        "colab_type": "code",
        "outputId": "cede901a-533f-47c7-b504-749c731ee6a2",
        "colab": {
          "base_uri": "https://localhost:8080/",
          "height": 34
        }
      },
      "source": [
        "# Feature Scaling\n",
        "from sklearn.preprocessing import MinMaxScaler\n",
        "sc = MinMaxScaler(feature_range = (0, 1)); sc"
      ],
      "execution_count": 85,
      "outputs": [
        {
          "output_type": "execute_result",
          "data": {
            "text/plain": [
              "MinMaxScaler(copy=True, feature_range=(0, 1))"
            ]
          },
          "metadata": {
            "tags": []
          },
          "execution_count": 85
        }
      ]
    },
    {
      "cell_type": "code",
      "metadata": {
        "id": "WSL0wbPNu2Yg",
        "colab_type": "code",
        "outputId": "4ccbe8a3-056d-4bb9-d840-44f7f13c3cf7",
        "colab": {
          "base_uri": "https://localhost:8080/",
          "height": 34
        }
      },
      "source": [
        "training_set_scaled = sc.fit_transform(training_set);training_set_scaled.shape"
      ],
      "execution_count": 86,
      "outputs": [
        {
          "output_type": "execute_result",
          "data": {
            "text/plain": [
              "(1771, 1)"
            ]
          },
          "metadata": {
            "tags": []
          },
          "execution_count": 86
        }
      ]
    },
    {
      "cell_type": "code",
      "metadata": {
        "id": "zt_gHvjbu2Ym",
        "colab_type": "code",
        "colab": {}
      },
      "source": [
        "# Creating a data structure with 60 timesteps and 1 output\n",
        "X_train = []\n",
        "y_train = []\n",
        "for i in range(60, train.shape[0]):\n",
        "    X_train.append(training_set_scaled[i-60:i, 0])\n",
        "    y_train.append(training_set_scaled[i, 0])\n",
        "X_train, y_train = np.array(X_train), np.array(y_train)"
      ],
      "execution_count": 0,
      "outputs": []
    },
    {
      "cell_type": "code",
      "metadata": {
        "scrolled": true,
        "id": "bOv3LCZvu2Yr",
        "colab_type": "code",
        "outputId": "8440319e-7102-498a-811a-5b5ac52bf7ee",
        "colab": {
          "base_uri": "https://localhost:8080/",
          "height": 34
        }
      },
      "source": [
        "X_train.shape"
      ],
      "execution_count": 88,
      "outputs": [
        {
          "output_type": "execute_result",
          "data": {
            "text/plain": [
              "(1711, 60)"
            ]
          },
          "metadata": {
            "tags": []
          },
          "execution_count": 88
        }
      ]
    },
    {
      "cell_type": "code",
      "metadata": {
        "id": "hJdbGpHDu2Yy",
        "colab_type": "code",
        "outputId": "6984148a-36b3-4d48-d2c3-cbddeee37666",
        "colab": {
          "base_uri": "https://localhost:8080/",
          "height": 34
        }
      },
      "source": [
        "y_train.shape"
      ],
      "execution_count": 89,
      "outputs": [
        {
          "output_type": "execute_result",
          "data": {
            "text/plain": [
              "(1711,)"
            ]
          },
          "metadata": {
            "tags": []
          },
          "execution_count": 89
        }
      ]
    },
    {
      "cell_type": "code",
      "metadata": {
        "id": "JtGiuFESu2Y5",
        "colab_type": "code",
        "outputId": "5125b250-6459-46d8-de8b-4337614bed36",
        "colab": {
          "base_uri": "https://localhost:8080/",
          "height": 238
        }
      },
      "source": [
        "X_train"
      ],
      "execution_count": 90,
      "outputs": [
        {
          "output_type": "execute_result",
          "data": {
            "text/plain": [
              "array([[0.08895766, 0.33366156, 0.04982416, ..., 0.82627656, 0.48313403,\n",
              "        0.73821912],\n",
              "       [0.33366156, 0.04982416, 0.33754394, ..., 0.48313403, 0.73821912,\n",
              "        0.54016034],\n",
              "       [0.04982416, 0.33754394, 0.85469117, ..., 0.73821912, 0.54016034,\n",
              "        0.47207764],\n",
              "       ...,\n",
              "       [0.08496271, 0.5820509 , 0.53115768, ..., 0.34120128, 0.76522715,\n",
              "        0.72865379],\n",
              "       [0.5820509 , 0.53115768, 0.04498523, ..., 0.76522715, 0.72865379,\n",
              "        0.13911941],\n",
              "       [0.53115768, 0.04498523, 0.07933604, ..., 0.72865379, 0.13911941,\n",
              "        0.09790407]])"
            ]
          },
          "metadata": {
            "tags": []
          },
          "execution_count": 90
        }
      ]
    },
    {
      "cell_type": "code",
      "metadata": {
        "id": "5341kyaDu2ZW",
        "colab_type": "code",
        "colab": {}
      },
      "source": [
        "# Part 2 - Building the RNN\n",
        "\n",
        "# Importing the Keras libraries and packages\n",
        "from keras.models import Sequential\n",
        "from keras.layers import Dense\n",
        "from keras.layers import LSTM\n",
        "from keras.layers import Dropout"
      ],
      "execution_count": 0,
      "outputs": []
    },
    {
      "cell_type": "code",
      "metadata": {
        "id": "48W4oUbfkPVC",
        "colab_type": "code",
        "colab": {}
      },
      "source": [
        "from keras.models import Sequential\n",
        "from keras.layers import Dense, Activation\n",
        "model = Sequential([\n",
        "    Dense(60, input_shape=(60,)),\n",
        "    Activation('relu'), \n",
        "    Dense(10), \n",
        "    Activation('softmax'),\n",
        "    Dense(1),\n",
        "    Activation('sigmoid'),\n",
        "])\n"
      ],
      "execution_count": 0,
      "outputs": []
    },
    {
      "cell_type": "code",
      "metadata": {
        "id": "ovgUWYBVrqcC",
        "colab_type": "code",
        "colab": {}
      },
      "source": [
        "model.compile(optimizer = 'adam', loss = 'mean_squared_error')"
      ],
      "execution_count": 0,
      "outputs": []
    },
    {
      "cell_type": "code",
      "metadata": {
        "id": "ZsZmT-e1tTj3",
        "colab_type": "code",
        "colab": {
          "base_uri": "https://localhost:8080/",
          "height": 1000
        },
        "outputId": "92174a66-be7c-41e7-ee02-4c0357b27b0d"
      },
      "source": [
        "\n",
        "model.fit(X_train, y_train, epochs = 100, batch_size = 32)"
      ],
      "execution_count": 106,
      "outputs": [
        {
          "output_type": "stream",
          "text": [
            "Epoch 1/100\n",
            "1711/1711 [==============================] - 0s 48us/step - loss: 0.0759\n",
            "Epoch 2/100\n",
            "1711/1711 [==============================] - 0s 39us/step - loss: 0.0755\n",
            "Epoch 3/100\n",
            "1711/1711 [==============================] - 0s 35us/step - loss: 0.0749\n",
            "Epoch 4/100\n",
            "1711/1711 [==============================] - 0s 36us/step - loss: 0.0748\n",
            "Epoch 5/100\n",
            "1711/1711 [==============================] - 0s 38us/step - loss: 0.0741\n",
            "Epoch 6/100\n",
            "1711/1711 [==============================] - 0s 37us/step - loss: 0.0733\n",
            "Epoch 7/100\n",
            "1711/1711 [==============================] - 0s 38us/step - loss: 0.0727\n",
            "Epoch 8/100\n",
            "1711/1711 [==============================] - 0s 38us/step - loss: 0.0721\n",
            "Epoch 9/100\n",
            "1711/1711 [==============================] - 0s 41us/step - loss: 0.0708\n",
            "Epoch 10/100\n",
            "1711/1711 [==============================] - 0s 37us/step - loss: 0.0694\n",
            "Epoch 11/100\n",
            "1711/1711 [==============================] - 0s 35us/step - loss: 0.0693\n",
            "Epoch 12/100\n",
            "1711/1711 [==============================] - 0s 39us/step - loss: 0.0676\n",
            "Epoch 13/100\n",
            "1711/1711 [==============================] - 0s 40us/step - loss: 0.0661\n",
            "Epoch 14/100\n",
            "1711/1711 [==============================] - 0s 37us/step - loss: 0.0658\n",
            "Epoch 15/100\n",
            "1711/1711 [==============================] - 0s 36us/step - loss: 0.0652\n",
            "Epoch 16/100\n",
            "1711/1711 [==============================] - 0s 38us/step - loss: 0.0628\n",
            "Epoch 17/100\n",
            "1711/1711 [==============================] - 0s 41us/step - loss: 0.0615\n",
            "Epoch 18/100\n",
            "1711/1711 [==============================] - 0s 38us/step - loss: 0.0600\n",
            "Epoch 19/100\n",
            "1711/1711 [==============================] - 0s 37us/step - loss: 0.0576\n",
            "Epoch 20/100\n",
            "1711/1711 [==============================] - 0s 38us/step - loss: 0.0564\n",
            "Epoch 21/100\n",
            "1711/1711 [==============================] - 0s 39us/step - loss: 0.0550\n",
            "Epoch 22/100\n",
            "1711/1711 [==============================] - 0s 38us/step - loss: 0.0535\n",
            "Epoch 23/100\n",
            "1711/1711 [==============================] - 0s 38us/step - loss: 0.0515\n",
            "Epoch 24/100\n",
            "1711/1711 [==============================] - 0s 38us/step - loss: 0.0495\n",
            "Epoch 25/100\n",
            "1711/1711 [==============================] - 0s 37us/step - loss: 0.0486\n",
            "Epoch 26/100\n",
            "1711/1711 [==============================] - 0s 38us/step - loss: 0.0464\n",
            "Epoch 27/100\n",
            "1711/1711 [==============================] - 0s 41us/step - loss: 0.0446\n",
            "Epoch 28/100\n",
            "1711/1711 [==============================] - 0s 36us/step - loss: 0.0433\n",
            "Epoch 29/100\n",
            "1711/1711 [==============================] - 0s 40us/step - loss: 0.0420\n",
            "Epoch 30/100\n",
            "1711/1711 [==============================] - 0s 36us/step - loss: 0.0400\n",
            "Epoch 31/100\n",
            "1711/1711 [==============================] - 0s 39us/step - loss: 0.0395\n",
            "Epoch 32/100\n",
            "1711/1711 [==============================] - 0s 37us/step - loss: 0.0375\n",
            "Epoch 33/100\n",
            "1711/1711 [==============================] - 0s 38us/step - loss: 0.0363\n",
            "Epoch 34/100\n",
            "1711/1711 [==============================] - 0s 37us/step - loss: 0.0352\n",
            "Epoch 35/100\n",
            "1711/1711 [==============================] - 0s 37us/step - loss: 0.0340\n",
            "Epoch 36/100\n",
            "1711/1711 [==============================] - 0s 37us/step - loss: 0.0333\n",
            "Epoch 37/100\n",
            "1711/1711 [==============================] - 0s 37us/step - loss: 0.0313\n",
            "Epoch 38/100\n",
            "1711/1711 [==============================] - 0s 37us/step - loss: 0.0304\n",
            "Epoch 39/100\n",
            "1711/1711 [==============================] - 0s 39us/step - loss: 0.0296\n",
            "Epoch 40/100\n",
            "1711/1711 [==============================] - 0s 39us/step - loss: 0.0289\n",
            "Epoch 41/100\n",
            "1711/1711 [==============================] - 0s 36us/step - loss: 0.0281\n",
            "Epoch 42/100\n",
            "1711/1711 [==============================] - 0s 39us/step - loss: 0.0277\n",
            "Epoch 43/100\n",
            "1711/1711 [==============================] - 0s 39us/step - loss: 0.0264\n",
            "Epoch 44/100\n",
            "1711/1711 [==============================] - 0s 39us/step - loss: 0.0254\n",
            "Epoch 45/100\n",
            "1711/1711 [==============================] - 0s 36us/step - loss: 0.0247\n",
            "Epoch 46/100\n",
            "1711/1711 [==============================] - 0s 39us/step - loss: 0.0242\n",
            "Epoch 47/100\n",
            "1711/1711 [==============================] - 0s 39us/step - loss: 0.0231\n",
            "Epoch 48/100\n",
            "1711/1711 [==============================] - 0s 38us/step - loss: 0.0226\n",
            "Epoch 49/100\n",
            "1711/1711 [==============================] - 0s 42us/step - loss: 0.0223\n",
            "Epoch 50/100\n",
            "1711/1711 [==============================] - 0s 37us/step - loss: 0.0216\n",
            "Epoch 51/100\n",
            "1711/1711 [==============================] - 0s 37us/step - loss: 0.0211\n",
            "Epoch 52/100\n",
            "1711/1711 [==============================] - 0s 36us/step - loss: 0.0205\n",
            "Epoch 53/100\n",
            "1711/1711 [==============================] - 0s 35us/step - loss: 0.0202\n",
            "Epoch 54/100\n",
            "1711/1711 [==============================] - 0s 37us/step - loss: 0.0214\n",
            "Epoch 55/100\n",
            "1711/1711 [==============================] - 0s 34us/step - loss: 0.0189\n",
            "Epoch 56/100\n",
            "1711/1711 [==============================] - 0s 39us/step - loss: 0.0184\n",
            "Epoch 57/100\n",
            "1711/1711 [==============================] - 0s 43us/step - loss: 0.0179\n",
            "Epoch 58/100\n",
            "1711/1711 [==============================] - 0s 40us/step - loss: 0.0175\n",
            "Epoch 59/100\n",
            "1711/1711 [==============================] - 0s 37us/step - loss: 0.0174\n",
            "Epoch 60/100\n",
            "1711/1711 [==============================] - 0s 37us/step - loss: 0.0166\n",
            "Epoch 61/100\n",
            "1711/1711 [==============================] - 0s 41us/step - loss: 0.0163\n",
            "Epoch 62/100\n",
            "1711/1711 [==============================] - 0s 35us/step - loss: 0.0158\n",
            "Epoch 63/100\n",
            "1711/1711 [==============================] - 0s 38us/step - loss: 0.0155\n",
            "Epoch 64/100\n",
            "1711/1711 [==============================] - 0s 36us/step - loss: 0.0151\n",
            "Epoch 65/100\n",
            "1711/1711 [==============================] - 0s 36us/step - loss: 0.0149\n",
            "Epoch 66/100\n",
            "1711/1711 [==============================] - 0s 34us/step - loss: 0.0148\n",
            "Epoch 67/100\n",
            "1711/1711 [==============================] - 0s 38us/step - loss: 0.0141\n",
            "Epoch 68/100\n",
            "1711/1711 [==============================] - 0s 38us/step - loss: 0.0139\n",
            "Epoch 69/100\n",
            "1711/1711 [==============================] - 0s 37us/step - loss: 0.0141\n",
            "Epoch 70/100\n",
            "1711/1711 [==============================] - 0s 37us/step - loss: 0.0134\n",
            "Epoch 71/100\n",
            "1711/1711 [==============================] - 0s 36us/step - loss: 0.0130\n",
            "Epoch 72/100\n",
            "1711/1711 [==============================] - 0s 40us/step - loss: 0.0127\n",
            "Epoch 73/100\n",
            "1711/1711 [==============================] - 0s 37us/step - loss: 0.0125\n",
            "Epoch 74/100\n",
            "1711/1711 [==============================] - 0s 36us/step - loss: 0.0125\n",
            "Epoch 75/100\n",
            "1711/1711 [==============================] - 0s 39us/step - loss: 0.0119\n",
            "Epoch 76/100\n",
            "1711/1711 [==============================] - 0s 41us/step - loss: 0.0121\n",
            "Epoch 77/100\n",
            "1711/1711 [==============================] - 0s 36us/step - loss: 0.0116\n",
            "Epoch 78/100\n",
            "1711/1711 [==============================] - 0s 37us/step - loss: 0.0115\n",
            "Epoch 79/100\n",
            "1711/1711 [==============================] - 0s 36us/step - loss: 0.0112\n",
            "Epoch 80/100\n",
            "1711/1711 [==============================] - 0s 36us/step - loss: 0.0109\n",
            "Epoch 81/100\n",
            "1711/1711 [==============================] - 0s 37us/step - loss: 0.0105\n",
            "Epoch 82/100\n",
            "1711/1711 [==============================] - 0s 39us/step - loss: 0.0105\n",
            "Epoch 83/100\n",
            "1711/1711 [==============================] - 0s 42us/step - loss: 0.0105\n",
            "Epoch 84/100\n",
            "1711/1711 [==============================] - 0s 46us/step - loss: 0.0099\n",
            "Epoch 85/100\n",
            "1711/1711 [==============================] - 0s 38us/step - loss: 0.0098\n",
            "Epoch 86/100\n",
            "1711/1711 [==============================] - 0s 38us/step - loss: 0.0101\n",
            "Epoch 87/100\n",
            "1711/1711 [==============================] - 0s 38us/step - loss: 0.0095\n",
            "Epoch 88/100\n",
            "1711/1711 [==============================] - 0s 37us/step - loss: 0.0094\n",
            "Epoch 89/100\n",
            "1711/1711 [==============================] - 0s 40us/step - loss: 0.0091\n",
            "Epoch 90/100\n",
            "1711/1711 [==============================] - 0s 40us/step - loss: 0.0089\n",
            "Epoch 91/100\n",
            "1711/1711 [==============================] - 0s 41us/step - loss: 0.0088\n",
            "Epoch 92/100\n",
            "1711/1711 [==============================] - 0s 38us/step - loss: 0.0086\n",
            "Epoch 93/100\n",
            "1711/1711 [==============================] - 0s 38us/step - loss: 0.0084\n",
            "Epoch 94/100\n",
            "1711/1711 [==============================] - 0s 40us/step - loss: 0.0084\n",
            "Epoch 95/100\n",
            "1711/1711 [==============================] - 0s 42us/step - loss: 0.0084\n",
            "Epoch 96/100\n",
            "1711/1711 [==============================] - 0s 34us/step - loss: 0.0080\n",
            "Epoch 97/100\n",
            "1711/1711 [==============================] - 0s 38us/step - loss: 0.0080\n",
            "Epoch 98/100\n",
            "1711/1711 [==============================] - 0s 37us/step - loss: 0.0079\n",
            "Epoch 99/100\n",
            "1711/1711 [==============================] - 0s 36us/step - loss: 0.0076\n",
            "Epoch 100/100\n",
            "1711/1711 [==============================] - 0s 38us/step - loss: 0.0077\n"
          ],
          "name": "stdout"
        },
        {
          "output_type": "execute_result",
          "data": {
            "text/plain": [
              "<keras.callbacks.History at 0x7fa8f8a1bda0>"
            ]
          },
          "metadata": {
            "tags": []
          },
          "execution_count": 106
        }
      ]
    },
    {
      "cell_type": "code",
      "metadata": {
        "id": "7HGoN_W0u2Zb",
        "colab_type": "code",
        "colab": {
          "base_uri": "https://localhost:8080/",
          "height": 357
        },
        "outputId": "e2e453d0-459c-4135-fb78-f789084a28ca"
      },
      "source": [
        "model.summary()"
      ],
      "execution_count": 107,
      "outputs": [
        {
          "output_type": "stream",
          "text": [
            "Model: \"sequential_5\"\n",
            "_________________________________________________________________\n",
            "Layer (type)                 Output Shape              Param #   \n",
            "=================================================================\n",
            "dense_7 (Dense)              (None, 60)                3660      \n",
            "_________________________________________________________________\n",
            "activation_6 (Activation)    (None, 60)                0         \n",
            "_________________________________________________________________\n",
            "dense_8 (Dense)              (None, 10)                610       \n",
            "_________________________________________________________________\n",
            "activation_7 (Activation)    (None, 10)                0         \n",
            "_________________________________________________________________\n",
            "dense_9 (Dense)              (None, 1)                 11        \n",
            "_________________________________________________________________\n",
            "activation_8 (Activation)    (None, 1)                 0         \n",
            "=================================================================\n",
            "Total params: 4,281\n",
            "Trainable params: 4,281\n",
            "Non-trainable params: 0\n",
            "_________________________________________________________________\n"
          ],
          "name": "stdout"
        }
      ]
    },
    {
      "cell_type": "code",
      "metadata": {
        "id": "68_T06ZStoJf",
        "colab_type": "code",
        "colab": {}
      },
      "source": [
        "# Part 3 - Making the predictions and visualising the results\n",
        "\n",
        "# Getting the real stock price of 2017\n",
        "dataset_test = test\n",
        "dataset_train = train\n",
        "real_stock_price = dataset_test.iloc[:, 1:2].values\n",
        "\n",
        "# Getting the predicted stock price of 2017\n",
        "dataset_total = pd.concat((dataset_train['Open'], dataset_test['Open']), axis = 0)\n",
        "inputs = dataset_total[len(dataset_total) - len(dataset_test) - 60:].values"
      ],
      "execution_count": 0,
      "outputs": []
    },
    {
      "cell_type": "code",
      "metadata": {
        "id": "657Sbqlytpj3",
        "colab_type": "code",
        "colab": {}
      },
      "source": [
        "inputs = inputs.reshape(-1,1); \n",
        "inputs = sc.transform(inputs)\n",
        "X_test = []\n",
        "for i in range(60, test.shape[0]):\n",
        "    X_test.append(inputs[i-60:i, 0])\n",
        "X_test = np.array(X_test)\n",
        "#X_test = np.reshape(X_test, (X_test.shape[0], X_test.shape[1], 1))\n",
        "predicted_stock_price = model.predict(X_test)\n",
        "predicted_stock_price = sc.inverse_transform(predicted_stock_price)"
      ],
      "execution_count": 0,
      "outputs": []
    },
    {
      "cell_type": "code",
      "metadata": {
        "id": "9TP69IS6uQOn",
        "colab_type": "code",
        "colab": {
          "base_uri": "https://localhost:8080/",
          "height": 295
        },
        "outputId": "08cd223f-caa2-4a21-f16d-b2ce58941782"
      },
      "source": [
        "# Visualising the results\n",
        "plt.plot(real_stock_price, color = 'red', label = 'Real yes bank Stock Price')\n",
        "plt.plot(predicted_stock_price, color = 'blue', label = 'Predicted yes bank Stock Price')\n",
        "plt.title('yes bank Stock Price Prediction')\n",
        "plt.xlabel('Time')\n",
        "plt.ylabel('yes bank Stock Price')\n",
        "plt.legend()\n",
        "plt.show()"
      ],
      "execution_count": 111,
      "outputs": [
        {
          "output_type": "display_data",
          "data": {
            "image/png": "[encoded data removed]",
            "text/plain": [
              "<Figure size 432x288 with 1 Axes>"
            ]
          },
          "metadata": {
            "tags": []
          }
        }
      ]
    },
    {
      "cell_type": "code",
      "metadata": {
        "id": "zYYt18-ouQAk",
        "colab_type": "code",
        "colab": {}
      },
      "source": [
        ""
      ],
      "execution_count": 0,
      "outputs": []
    },
    {
      "cell_type": "code",
      "metadata": {
        "id": "94yxAixFuP4g",
        "colab_type": "code",
        "colab": {}
      },
      "source": [
        ""
      ],
      "execution_count": 0,
      "outputs": []
    },
    {
      "cell_type": "markdown",
      "metadata": {
        "id": "YrCtHIpUuipe",
        "colab_type": "text"
      },
      "source": [
        "**with LSTM**"
      ]
    },
    {
      "cell_type": "code",
      "metadata": {
        "id": "ooreNSXWu2ZN",
        "colab_type": "code",
        "colab": {}
      },
      "source": [
        "# Reshaping\n",
        "X_train = np.reshape(X_train, (X_train.shape[0], X_train.shape[1], 1))"
      ],
      "execution_count": 0,
      "outputs": []
    },
    {
      "cell_type": "code",
      "metadata": {
        "id": "aJl4yPQ7u2Zi",
        "colab_type": "code",
        "colab": {}
      },
      "source": [
        "# Initialising the RNN\n",
        "regressor = Sequential()"
      ],
      "execution_count": 0,
      "outputs": []
    },
    {
      "cell_type": "code",
      "metadata": {
        "id": "2M_fordVu2Zm",
        "colab_type": "code",
        "outputId": "a779c2af-ce4a-4f9c-89fe-196e6fed3e1a",
        "colab": {
          "base_uri": "https://localhost:8080/",
          "height": 34
        }
      },
      "source": [
        "regressor"
      ],
      "execution_count": 59,
      "outputs": [
        {
          "output_type": "execute_result",
          "data": {
            "text/plain": [
              "<keras.engine.sequential.Sequential at 0x7fa8f524bf28>"
            ]
          },
          "metadata": {
            "tags": []
          },
          "execution_count": 59
        }
      ]
    },
    {
      "cell_type": "code",
      "metadata": {
        "scrolled": true,
        "id": "Rsk2OF2Pu2Zt",
        "colab_type": "code",
        "colab": {}
      },
      "source": [
        "#X_train[1]"
      ],
      "execution_count": 0,
      "outputs": []
    },
    {
      "cell_type": "code",
      "metadata": {
        "id": "6g9qd9UHd1ue",
        "colab_type": "code",
        "outputId": "57c50095-43de-42f6-8e7c-a3bb5ff692dd",
        "colab": {
          "base_uri": "https://localhost:8080/",
          "height": 34
        }
      },
      "source": [
        "X_train.shape"
      ],
      "execution_count": 61,
      "outputs": [
        {
          "output_type": "execute_result",
          "data": {
            "text/plain": [
              "(1711, 60, 1)"
            ]
          },
          "metadata": {
            "tags": []
          },
          "execution_count": 61
        }
      ]
    },
    {
      "cell_type": "code",
      "metadata": {
        "id": "9Qd9MNAsjoAy",
        "colab_type": "code",
        "outputId": "f89f7584-ff47-47c8-fe49-67e506245fab",
        "colab": {
          "base_uri": "https://localhost:8080/",
          "height": 34
        }
      },
      "source": [
        "X_train.shape[1:]"
      ],
      "execution_count": 62,
      "outputs": [
        {
          "output_type": "execute_result",
          "data": {
            "text/plain": [
              "(60, 1)"
            ]
          },
          "metadata": {
            "tags": []
          },
          "execution_count": 62
        }
      ]
    },
    {
      "cell_type": "code",
      "metadata": {
        "id": "kpS8Obdpe8QQ",
        "colab_type": "code",
        "outputId": "1ac729ef-36b1-4d7d-cad1-032b00dac1f5",
        "colab": {
          "base_uri": "https://localhost:8080/",
          "height": 164
        }
      },
      "source": [
        "stop"
      ],
      "execution_count": 63,
      "outputs": [
        {
          "output_type": "error",
          "ename": "NameError",
          "evalue": "ignored",
          "traceback": [
            "\u001b[0;31m---------------------------------------------------------------------------\u001b[0m",
            "\u001b[0;31mNameError\u001b[0m                                 Traceback (most recent call last)",
            "\u001b[0;32m<ipython-input-63-4f76a9dad686>\u001b[0m in \u001b[0;36m<module>\u001b[0;34m()\u001b[0m\n\u001b[0;32m----> 1\u001b[0;31m \u001b[0mstop\u001b[0m\u001b[0;34m\u001b[0m\u001b[0;34m\u001b[0m\u001b[0m\n\u001b[0m",
            "\u001b[0;31mNameError\u001b[0m: name 'stop' is not defined"
          ]
        }
      ]
    },
    {
      "cell_type": "code",
      "metadata": {
        "id": "X827SxOOl6Qc",
        "colab_type": "code",
        "colab": {}
      },
      "source": [
        "?Dense"
      ],
      "execution_count": 0,
      "outputs": []
    },
    {
      "cell_type": "code",
      "metadata": {
        "id": "tqX97lKEu2Zy",
        "colab_type": "code",
        "colab": {}
      },
      "source": [
        "# Adding the first LSTM layer and some Dropout regularisation\n",
        "u=60\n",
        "regressor.add(LSTM(units = u, return_sequences = True, input_shape =(X_train.shape) ))\n",
        "regressor.add(Dropout(0.2))\n",
        "\n",
        "# Adding a second LSTM layer and some Dropout regularisation\n",
        "regressor.add(LSTM(units = u, return_sequences = True))\n",
        "regressor.add(Dropout(0.2))\n",
        "\n",
        "# Adding a third LSTM layer and some Dropout regularisation\n",
        "regressor.add(LSTM(units = u, return_sequences = True))\n",
        "regressor.add(Dropout(0.2))\n",
        "\n",
        "# Adding a fourth LSTM layer and some Dropout regularisation\n",
        "regressor.add(LSTM(units = u))\n",
        "regressor.add(Dropout(0.2))\n",
        "\n",
        "# Adding the output layer\n",
        "regressor.add(Dense(units = 1))\n",
        "\n",
        "# Compiling the RNN\n",
        "regressor.compile(optimizer = 'adam', loss = 'mean_squared_error')"
      ],
      "execution_count": 0,
      "outputs": []
    },
    {
      "cell_type": "code",
      "metadata": {
        "id": "IQtxm2AYu2Z4",
        "colab_type": "code",
        "colab": {}
      },
      "source": [
        "#error"
      ],
      "execution_count": 0,
      "outputs": []
    },
    {
      "cell_type": "code",
      "metadata": {
        "scrolled": false,
        "id": "Sip5Kz-8u2Z9",
        "colab_type": "code",
        "colab": {}
      },
      "source": [
        "regressor.summary()"
      ],
      "execution_count": 0,
      "outputs": []
    },
    {
      "cell_type": "code",
      "metadata": {
        "scrolled": true,
        "id": "wsf_6UI3u2aA",
        "colab_type": "code",
        "colab": {}
      },
      "source": [
        "# Fitting the RNN to the Training set6\n",
        "regressor.fit(X_train, y_train, epochs = 100, batch_size = 32)"
      ],
      "execution_count": 0,
      "outputs": []
    },
    {
      "cell_type": "code",
      "metadata": {
        "id": "-ob8kWuFu2aF",
        "colab_type": "code",
        "colab": {}
      },
      "source": [
        "# Part 3 - Making the predictions and visualising the results\n",
        "\n",
        "# Getting the real stock price of 2017\n",
        "dataset_test = test\n",
        "dataset_train = train\n",
        "real_stock_price = dataset_test.iloc[:, 1:2].values\n",
        "\n",
        "# Getting the predicted stock price of 2017\n",
        "dataset_total = pd.concat((dataset_train['Open'], dataset_test['Open']), axis = 0)\n",
        "inputs = dataset_total[len(dataset_total) - len(dataset_test) - 60:].values"
      ],
      "execution_count": 0,
      "outputs": []
    },
    {
      "cell_type": "markdown",
      "metadata": {
        "id": "j2z5NG4rt-FI",
        "colab_type": "text"
      },
      "source": [
        ""
      ]
    },
    {
      "cell_type": "code",
      "metadata": {
        "id": "cV3Ud0aiu2aI",
        "colab_type": "code",
        "colab": {}
      },
      "source": [
        ""
      ],
      "execution_count": 0,
      "outputs": []
    },
    {
      "cell_type": "code",
      "metadata": {
        "id": "t5f2tep4u2aO",
        "colab_type": "code",
        "colab": {}
      },
      "source": [
        "inputs = inputs.reshape(-1,1); \n",
        "inputs = sc.transform(inputs)\n",
        "X_test = []\n",
        "for i in range(60, test.shape[0]):\n",
        "    X_test.append(inputs[i-60:i, 0])\n",
        "X_test = np.array(X_test)\n",
        "X_test = np.reshape(X_test, (X_test.shape[0], X_test.shape[1], 1))\n",
        "predicted_stock_price = regressor.predict(X_test)\n",
        "predicted_stock_price = sc.inverse_transform(predicted_stock_price)"
      ],
      "execution_count": 0,
      "outputs": []
    },
    {
      "cell_type": "code",
      "metadata": {
        "scrolled": false,
        "id": "P022dqxJu2aS",
        "colab_type": "code",
        "colab": {}
      },
      "source": [
        "# Visualising the results\n",
        "plt.plot(real_stock_price, color = 'red', label = 'Real Google Stock Price')\n",
        "plt.plot(predicted_stock_price, color = 'blue', label = 'Predicted Google Stock Price')\n",
        "plt.title('Google Stock Price Prediction')\n",
        "plt.xlabel('Time')\n",
        "plt.ylabel('Google Stock Price')\n",
        "plt.legend()\n",
        "plt.show()"
      ],
      "execution_count": 0,
      "outputs": []
    },
    {
      "cell_type": "code",
      "metadata": {
        "id": "QVv8ruwDBGbl",
        "colab_type": "code",
        "colab": {}
      },
      "source": [
        "stop here"
      ],
      "execution_count": 0,
      "outputs": []
    },
    {
      "cell_type": "code",
      "metadata": {
        "id": "NGfbz1hvu2aV",
        "colab_type": "code",
        "colab": {}
      },
      "source": [
        "#!pip3 install ann_visualizer"
      ],
      "execution_count": 0,
      "outputs": []
    },
    {
      "cell_type": "code",
      "metadata": {
        "id": "rSpn0aU1u2ab",
        "colab_type": "code",
        "colab": {}
      },
      "source": [
        "#!pip3 install graphviz"
      ],
      "execution_count": 0,
      "outputs": []
    },
    {
      "cell_type": "code",
      "metadata": {
        "id": "SU7D4sq0u2af",
        "colab_type": "code",
        "colab": {}
      },
      "source": [
        "#!conda install -c conda-forge ann_visualizer"
      ],
      "execution_count": 0,
      "outputs": []
    },
    {
      "cell_type": "markdown",
      "metadata": {
        "collapsed": true,
        "id": "M0VNMgE8u2ai",
        "colab_type": "text"
      },
      "source": [
        "from ann_visualizer.visualize import ann_viz\n",
        "ann_viz(regressor, title=\"My first neural network\")"
      ]
    },
    {
      "cell_type": "markdown",
      "metadata": {
        "id": "08nEA38pu2ak",
        "colab_type": "text"
      },
      "source": [
        "import dill\n",
        "dill.dump_session('notebook_env.db')"
      ]
    },
    {
      "cell_type": "code",
      "metadata": {
        "id": "UVzW-Um0u2al",
        "colab_type": "code",
        "colab": {}
      },
      "source": [
        ""
      ],
      "execution_count": 0,
      "outputs": []
    },
    {
      "cell_type": "code",
      "metadata": {
        "id": "vLpH1hqpu2an",
        "colab_type": "code",
        "colab": {}
      },
      "source": [
        "filename = '/content/drive/My Drive/Colab Notebooks/new_model.sav'\n",
        "dump(regressor,filename)"
      ],
      "execution_count": 0,
      "outputs": []
    },
    {
      "cell_type": "code",
      "metadata": {
        "id": "2aW698Iau2aq",
        "colab_type": "code",
        "colab": {}
      },
      "source": [
        "# load the model from disk\n",
        "loaded_model = load(filename)"
      ],
      "execution_count": 0,
      "outputs": []
    },
    {
      "cell_type": "code",
      "metadata": {
        "id": "Kh5xsowxu2at",
        "colab_type": "code",
        "colab": {}
      },
      "source": [
        "print(loaded_model)"
      ],
      "execution_count": 0,
      "outputs": []
    },
    {
      "cell_type": "code",
      "metadata": {
        "id": "4K0UetCCu2ax",
        "colab_type": "code",
        "colab": {}
      },
      "source": [
        "predicted_stock_price_loaded = loaded_model.predict(X_test)\n",
        "predicted_stock_price_loaded = sc.inverse_transform(predicted_stock_price_loaded)"
      ],
      "execution_count": 0,
      "outputs": []
    },
    {
      "cell_type": "markdown",
      "metadata": {
        "id": "e-_ekFtCA0qq",
        "colab_type": "text"
      },
      "source": [
        "'TPU  Stock Price Prediction'"
      ]
    },
    {
      "cell_type": "code",
      "metadata": {
        "id": "fpqPg2E7u2a0",
        "colab_type": "code",
        "colab": {}
      },
      "source": [
        "# Visualising the results\n",
        "plt.plot(real_stock_price, color = 'red', label = 'Real Google Stock Price')\n",
        "plt.plot(predicted_stock_price_loaded, color = 'blue', label = 'Predicted Google Stock Price')\n",
        "plt.title('TPU  Stock Price Prediction')\n",
        "plt.xlabel('Time')\n",
        "plt.ylabel('Google Stock Price')\n",
        "plt.legend()\n",
        "plt.show()"
      ],
      "execution_count": 0,
      "outputs": []
    },
    {
      "cell_type": "code",
      "metadata": {
        "id": "-ZP67APmu2a2",
        "colab_type": "code",
        "colab": {}
      },
      "source": [
        "%who"
      ],
      "execution_count": 0,
      "outputs": []
    },
    {
      "cell_type": "code",
      "metadata": {
        "id": "H4oDM7Ko_YjT",
        "colab_type": "code",
        "colab": {}
      },
      "source": [
        ""
      ],
      "execution_count": 0,
      "outputs": []
    }
  ]
}